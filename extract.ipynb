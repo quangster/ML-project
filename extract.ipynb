{
 "cells": [
  {
   "cell_type": "code",
   "execution_count": 2,
   "metadata": {},
   "outputs": [],
   "source": [
    "from utils import extract_data, load_data\n",
    "import os\n",
    "import pandas as pd\n",
    "from IPython.display import display"
   ]
  },
  {
   "cell_type": "code",
   "execution_count": 3,
   "metadata": {},
   "outputs": [],
   "source": [
    "def extract(model: str):\n",
    "    raw_data = load_data(os.path.join('data', 'raw', f'bonbanh.{model}.pkl'))\n",
    "    clean_data = []\n",
    "    for e in raw_data:\n",
    "        clean_data.append(extract_data(e))\n",
    "    df = pd.DataFrame(clean_data)\n",
    "    display(df.head())\n",
    "    df.to_pickle(os.path.join('data', 'clean', f'bonbanh.{model}.pkl'))"
   ]
  },
  {
   "cell_type": "code",
   "execution_count": 4,
   "metadata": {},
   "outputs": [],
   "source": [
    "# extract('audi')\n",
    "# extract('bentley')\n",
    "# extract('bmw')\n",
    "# extract('chevrolet')\n",
    "# extract('daewoo')\n",
    "# extract('ford')\n",
    "# extract('honda')\n",
    "# extract('hyundai')\n",
    "# extract('isuzu')\n",
    "# extract('jeep')\n",
    "# extract('kia')\n",
    "# extract('landrover')\n",
    "# extract('lexus')\n",
    "# extract('mazda')\n",
    "# extract('mercedes_benz')\n",
    "# extract('mg')\n",
    "# extract('mini')\n",
    "# extract('mitsubishi')\n",
    "# extract('nissan')\n",
    "# extract('peugeot')\n",
    "# extract('porsche')\n",
    "# extract('subaru')\n",
    "# extract('suzuki')\n",
    "# extract('toyota')\n",
    "# extract('vinfast')\n",
    "# extract('volkswagen')\n",
    "# extract('volvo')"
   ]
  },
  {
   "cell_type": "code",
   "execution_count": 16,
   "metadata": {},
   "outputs": [
    {
     "name": "stdout",
     "output_type": "stream",
     "text": [
      "30881\n"
     ]
    }
   ],
   "source": [
    "import pickle\n",
    "\n",
    "def combine_pickle_files(directory_path, output_file):\n",
    "    # Kiểm tra xem file data.pkl đã tồn tại chưa\n",
    "    if os.path.exists(output_file):\n",
    "        with open(output_file, 'rb') as f:\n",
    "            data_df = pickle.load(f)  # Nếu có, đọc dữ liệu hiện tại từ file\n",
    "    else:\n",
    "        data_df = pd.DataFrame()  # Nếu không, khởi tạo một DataFrame trống\n",
    "\n",
    "    for file_name in os.listdir(directory_path):\n",
    "        if file_name.endswith('.pkl'):\n",
    "            file_path = os.path.join(directory_path, file_name)\n",
    "            with open(file_path, 'rb') as f:\n",
    "                content = pickle.load(f)\n",
    "                if isinstance(content, pd.DataFrame):\n",
    "                    data_df = pd.concat([data_df, content], ignore_index=True)\n",
    "\n",
    "    with open(output_file, 'wb') as out:\n",
    "        pickle.dump(data_df, out, protocol=pickle.HIGHEST_PROTOCOL)\n",
    "        print(len(data_df))\n",
    "\n",
    "# Sử dụng hàm:\n",
    "directory_path = 'data/clean'\n",
    "output_file = 'data/clean/data.pkl'\n",
    "combine_pickle_files(directory_path, output_file)"
   ]
  }
 ],
 "metadata": {
  "kernelspec": {
   "display_name": "ml-env",
   "language": "python",
   "name": "python3"
  },
  "language_info": {
   "codemirror_mode": {
    "name": "ipython",
    "version": 3
   },
   "file_extension": ".py",
   "mimetype": "text/x-python",
   "name": "python",
   "nbconvert_exporter": "python",
   "pygments_lexer": "ipython3",
   "version": "3.10.13"
  }
 },
 "nbformat": 4,
 "nbformat_minor": 2
}
