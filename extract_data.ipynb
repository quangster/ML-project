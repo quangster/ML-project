{
 "cells": [
  {
   "cell_type": "code",
   "execution_count": 1,
   "metadata": {},
   "outputs": [],
   "source": [
    "from utils import extract_data, load_data\n",
    "import os\n",
    "import pandas as pd\n",
    "from IPython.display import display"
   ]
  },
  {
   "cell_type": "code",
   "execution_count": 2,
   "metadata": {},
   "outputs": [],
   "source": [
    "def extract(model: str):\n",
    "    raw_data = load_data(os.path.join('data', 'raw', f'bonbanh.{model}.pkl'))\n",
    "    clean_data = []\n",
    "    for e in raw_data:\n",
    "        clean_data.append(extract_data(e))\n",
    "    df = pd.DataFrame(clean_data)\n",
    "    display(df.head())\n",
    "    df.to_pickle(os.path.join('data', 'clean', f'bonbanh.{model}.pkl'))"
   ]
  },
  {
   "cell_type": "code",
   "execution_count": 3,
   "metadata": {},
   "outputs": [],
   "source": [
    "# extract('audi')\n",
    "# extract('bentley')\n",
    "# extract('bmw')\n",
    "# extract('chevrolet')\n",
    "# extract('daewoo')\n",
    "# extract('ford')\n",
    "# extract('honda')\n",
    "# extract('hyundai')\n",
    "# extract('isuzu')\n",
    "# extract('jeep')\n",
    "# extract('kia')\n",
    "# extract('landrover')\n",
    "# extract('lexus')\n",
    "# extract('mazda')\n",
    "# extract('mercedes_benz')\n",
    "# extract('mg')\n",
    "# extract('mini')\n",
    "# extract('mitsubishi')\n",
    "# extract('nissan')\n",
    "# extract('peugeot')\n",
    "# extract('porsche')\n",
    "# extract('subaru')\n",
    "# extract('suzuki')\n",
    "# extract('toyota')\n",
    "# extract('vinfast')\n",
    "# extract('volkswagen')\n",
    "# extract('volvo')"
   ]
  },
  {
   "cell_type": "code",
   "execution_count": 4,
   "metadata": {},
   "outputs": [
    {
     "name": "stdout",
     "output_type": "stream",
     "text": [
      "30881\n"
     ]
    }
   ],
   "source": [
    "import pickle\n",
    "\n",
    "def combine_pickle_files(directory_path, output_file):\n",
    "    # Kiểm tra xem file data.pkl đã tồn tại chưa\n",
    "    if os.path.exists(output_file):\n",
    "        with open(output_file, 'rb') as f:\n",
    "            data_df = pickle.load(f)  # Nếu có, đọc dữ liệu hiện tại từ file\n",
    "    else:\n",
    "        data_df = pd.DataFrame()  # Nếu không, khởi tạo một DataFrame trống\n",
    "\n",
    "    for file_name in os.listdir(directory_path):\n",
    "        if file_name.endswith('.pkl'):\n",
    "            file_path = os.path.join(directory_path, file_name)\n",
    "            with open(file_path, 'rb') as f:\n",
    "                content = pickle.load(f)\n",
    "                if isinstance(content, pd.DataFrame):\n",
    "                    data_df = pd.concat([data_df, content], ignore_index=True)\n",
    "\n",
    "    with open(output_file, 'wb') as out:\n",
    "        pickle.dump(data_df, out, protocol=pickle.HIGHEST_PROTOCOL)\n",
    "        print(len(data_df))\n",
    "\n",
    "# Sử dụng hàm:\n",
    "directory_path = 'data/clean'\n",
    "output_file = 'data/clean/data.pkl'\n",
    "combine_pickle_files(directory_path, output_file)"
   ]
  },
  {
   "cell_type": "code",
   "execution_count": 5,
   "metadata": {},
   "outputs": [
    {
     "name": "stdout",
     "output_type": "stream",
     "text": [
      "Độ dài của file bonbanh.audi.pkl là: 315\n",
      "Độ dài của file bonbanh.bentley.pkl là: 65\n",
      "Độ dài của file bonbanh.bmw.pkl là: 682\n",
      "Độ dài của file bonbanh.chevrolet.pkl là: 554\n",
      "Độ dài của file bonbanh.daewoo.pkl là: 248\n",
      "Độ dài của file bonbanh.ford.pkl là: 3155\n",
      "Độ dài của file bonbanh.honda.pkl là: 1352\n",
      "Độ dài của file bonbanh.hyundai.pkl là: 3475\n",
      "Độ dài của file bonbanh.isuzu.pkl là: 120\n",
      "Độ dài của file bonbanh.jeep.pkl là: 89\n",
      "Độ dài của file bonbanh.kia.pkl là: 2900\n",
      "Độ dài của file bonbanh.landrover.pkl là: 411\n",
      "Độ dài của file bonbanh.lexus.pkl là: 1177\n",
      "Độ dài của file bonbanh.mazda.pkl là: 2147\n",
      "Độ dài của file bonbanh.mercedes_benz.pkl là: 3329\n",
      "Độ dài của file bonbanh.mg.pkl là: 376\n",
      "Độ dài của file bonbanh.mini.pkl là: 113\n",
      "Độ dài của file bonbanh.mitsubishi.pkl là: 1474\n",
      "Độ dài của file bonbanh.nissan.pkl là: 300\n",
      "Độ dài của file bonbanh.peugeot.pkl là: 275\n",
      "Độ dài của file bonbanh.porsche.pkl là: 429\n",
      "Độ dài của file bonbanh.subaru.pkl là: 212\n",
      "Độ dài của file bonbanh.suzuki.pkl là: 343\n",
      "Độ dài của file bonbanh.toyota.pkl là: 5860\n",
      "Độ dài của file bonbanh.vinfast.pkl là: 969\n",
      "Độ dài của file bonbanh.volkswagen.pkl là: 361\n",
      "Độ dài của file bonbanh.volvo.pkl là: 150\n",
      "Độ dài của file data.pkl là: 30881\n"
     ]
    }
   ],
   "source": [
    "import os\n",
    "import pickle\n",
    "import pandas as pd\n",
    "# Đường dẫn đến thư mục chứa các file .pkl\n",
    "folder_path = 'data/clean'\n",
    "\n",
    "# Duyệt qua tất cả các file trong thư mục\n",
    "for filename in os.listdir(folder_path):\n",
    "    # Kiểm tra nếu file có phần mở rộng là .pkl\n",
    "    if filename.endswith('.pkl'):\n",
    "        file_path = os.path.join(folder_path, filename)\n",
    "        \n",
    "        # Mở và đọc file .pkl\n",
    "        with open(file_path, 'rb') as f:\n",
    "            data = pickle.load(f)\n",
    "        \n",
    "        # In ra độ dài của dữ liệu\n",
    "        print(f'Độ dài của file {filename} là: {len(data)}')"
   ]
  },
  {
   "cell_type": "markdown",
   "metadata": {},
   "source": [
    "# Clean"
   ]
  },
  {
   "cell_type": "code",
   "execution_count": 6,
   "metadata": {},
   "outputs": [],
   "source": [
    "import numpy as np\n",
    "import pandas as pd\n",
    "import matplotlib.pyplot as plt\n",
    "import seaborn as sns\n",
    "import scipy.stats as stats\n",
    "import statsmodels.api as sm\n",
    "from sklearn.preprocessing import StandardScaler\n",
    "from sklearn.decomposition import PCA\n",
    "from scipy.stats import pearsonr\n",
    "from statsmodels.formula.api import ols\n",
    "from sklearn.model_selection import train_test_split\n",
    "import os\n",
    "import pickle\n",
    "import openpyxl"
   ]
  },
  {
   "cell_type": "markdown",
   "metadata": {},
   "source": [
    "Loading the dataset"
   ]
  },
  {
   "cell_type": "code",
   "execution_count": 7,
   "metadata": {},
   "outputs": [
    {
     "data": {
      "text/html": [
       "<div>\n",
       "<style scoped>\n",
       "    .dataframe tbody tr th:only-of-type {\n",
       "        vertical-align: middle;\n",
       "    }\n",
       "\n",
       "    .dataframe tbody tr th {\n",
       "        vertical-align: top;\n",
       "    }\n",
       "\n",
       "    .dataframe thead th {\n",
       "        text-align: right;\n",
       "    }\n",
       "</style>\n",
       "<table border=\"1\" class=\"dataframe\">\n",
       "  <thead>\n",
       "    <tr style=\"text-align: right;\">\n",
       "      <th></th>\n",
       "      <th>URL</th>\n",
       "      <th>Tình trạng chung</th>\n",
       "      <th>Tên xe</th>\n",
       "      <th>Giá</th>\n",
       "      <th>Tỉnh</th>\n",
       "      <th>Mã xe</th>\n",
       "      <th>Năm sản xuất</th>\n",
       "      <th>Tình trạng</th>\n",
       "      <th>Số Km đã đi</th>\n",
       "      <th>Xuất xứ</th>\n",
       "      <th>Kiểu dáng</th>\n",
       "      <th>Hộp số</th>\n",
       "      <th>Động cơ</th>\n",
       "      <th>Màu ngoại thất</th>\n",
       "      <th>Màu nội thất</th>\n",
       "      <th>Số chỗ ngồi</th>\n",
       "      <th>Số cửa</th>\n",
       "      <th>Dẫn động</th>\n",
       "      <th>Mô tả</th>\n",
       "    </tr>\n",
       "  </thead>\n",
       "  <tbody>\n",
       "    <tr>\n",
       "      <th>0</th>\n",
       "      <td>https://bonbanh.com/xe-audi-a8-l-55-tfsi-quatt...</td>\n",
       "      <td>Xe cũ</td>\n",
       "      <td>Audi A8 L 55 TFSI Quattro - 2020</td>\n",
       "      <td>2950000000</td>\n",
       "      <td>TP HCM</td>\n",
       "      <td>5596529</td>\n",
       "      <td>2020</td>\n",
       "      <td>Xe đã dùng</td>\n",
       "      <td>30,000 Km</td>\n",
       "      <td>Nhập khẩu</td>\n",
       "      <td>Sedan</td>\n",
       "      <td>Số tự động</td>\n",
       "      <td>Xăng  3.0 L</td>\n",
       "      <td>Đen</td>\n",
       "      <td>Đen</td>\n",
       "      <td>5 chỗ</td>\n",
       "      <td>4 cửa</td>\n",
       "      <td>AWD - 4 bánh toàn thời gian</td>\n",
       "      <td>AUDI A8L  \\r\\nSản xuất : 2020\\r\\nĐăng ký : 5/2...</td>\n",
       "    </tr>\n",
       "    <tr>\n",
       "      <th>1</th>\n",
       "      <td>https://bonbanh.com/xe-audi-a6-2.0-tfsi-2014-5...</td>\n",
       "      <td>Xe cũ</td>\n",
       "      <td>Audi A6 2.0 TFSI - 2014</td>\n",
       "      <td>560000000</td>\n",
       "      <td>Hà Nội</td>\n",
       "      <td>5555194</td>\n",
       "      <td>2014</td>\n",
       "      <td>Xe đã dùng</td>\n",
       "      <td>94,000 Km</td>\n",
       "      <td>Nhập khẩu</td>\n",
       "      <td>Sedan</td>\n",
       "      <td>Số tự động</td>\n",
       "      <td>Xăng  2.0 L</td>\n",
       "      <td>Xanh</td>\n",
       "      <td>Nâu</td>\n",
       "      <td>5 chỗ</td>\n",
       "      <td>4 cửa</td>\n",
       "      <td>FWD - Dẫn động cầu trước</td>\n",
       "      <td>Xe đi sướng lại ít tiền Audi A6 sx 2014 . 9 vạ...</td>\n",
       "    </tr>\n",
       "    <tr>\n",
       "      <th>2</th>\n",
       "      <td>https://bonbanh.com/xe-audi-a4-2.0-tfsi-2016-5...</td>\n",
       "      <td>Xe cũ</td>\n",
       "      <td>Audi A4 2.0 TFSI - 2016</td>\n",
       "      <td>690000000</td>\n",
       "      <td>TP HCM</td>\n",
       "      <td>5464113</td>\n",
       "      <td>2016</td>\n",
       "      <td>Xe đã dùng</td>\n",
       "      <td>50,000 Km</td>\n",
       "      <td>Nhập khẩu</td>\n",
       "      <td>Sedan</td>\n",
       "      <td>Số tự động</td>\n",
       "      <td>Xăng  2.0 L</td>\n",
       "      <td>Đen</td>\n",
       "      <td>Đen</td>\n",
       "      <td>5 chỗ</td>\n",
       "      <td>4 cửa</td>\n",
       "      <td>FWD - Dẫn động cầu trước</td>\n",
       "      <td>AUDI A4 sản xuất 2016 đăng ký lần đầu 2017 nhậ...</td>\n",
       "    </tr>\n",
       "    <tr>\n",
       "      <th>3</th>\n",
       "      <td>https://bonbanh.com/xe-audi-q3-2.0-quattro-201...</td>\n",
       "      <td>Xe cũ</td>\n",
       "      <td>Audi Q3 2.0 Quattro - 2016</td>\n",
       "      <td>699000000</td>\n",
       "      <td>Hà Nội</td>\n",
       "      <td>5532313</td>\n",
       "      <td>2016</td>\n",
       "      <td>Xe đã dùng</td>\n",
       "      <td>76,000 Km</td>\n",
       "      <td>Nhập khẩu</td>\n",
       "      <td>Crossover</td>\n",
       "      <td>Số tự động</td>\n",
       "      <td>Xăng  2.0 L</td>\n",
       "      <td>Xanh</td>\n",
       "      <td>Đen</td>\n",
       "      <td>5 chỗ</td>\n",
       "      <td>5 cửa</td>\n",
       "      <td>AWD - 4 bánh toàn thời gian</td>\n",
       "      <td>Audi Q3 2016 \\r\\nOdo 76.000km 2 chủ lên thêm m...</td>\n",
       "    </tr>\n",
       "    <tr>\n",
       "      <th>4</th>\n",
       "      <td>https://bonbanh.com/xe-audi-a4-2.0-tfsi-2017-5...</td>\n",
       "      <td>Xe cũ</td>\n",
       "      <td>Audi A4 2.0 TFSI - 2017</td>\n",
       "      <td>799000000</td>\n",
       "      <td>TP HCM</td>\n",
       "      <td>5346160</td>\n",
       "      <td>2017</td>\n",
       "      <td>Xe đã dùng</td>\n",
       "      <td>0 Km</td>\n",
       "      <td>Nhập khẩu</td>\n",
       "      <td>Sedan</td>\n",
       "      <td>Số tự động</td>\n",
       "      <td>Xăng  2.0 L</td>\n",
       "      <td>Đen</td>\n",
       "      <td>Nâu</td>\n",
       "      <td>5 chỗ</td>\n",
       "      <td>4 cửa</td>\n",
       "      <td>FWD - Dẫn động cầu trước</td>\n",
       "      <td>Ngọc Quỳnh Autocar mới về Audi A4 đời 2017 màu...</td>\n",
       "    </tr>\n",
       "  </tbody>\n",
       "</table>\n",
       "</div>"
      ],
      "text/plain": [
       "                                                 URL Tình trạng chung  \\\n",
       "0  https://bonbanh.com/xe-audi-a8-l-55-tfsi-quatt...            Xe cũ   \n",
       "1  https://bonbanh.com/xe-audi-a6-2.0-tfsi-2014-5...            Xe cũ   \n",
       "2  https://bonbanh.com/xe-audi-a4-2.0-tfsi-2016-5...            Xe cũ   \n",
       "3  https://bonbanh.com/xe-audi-q3-2.0-quattro-201...            Xe cũ   \n",
       "4  https://bonbanh.com/xe-audi-a4-2.0-tfsi-2017-5...            Xe cũ   \n",
       "\n",
       "                             Tên xe         Giá    Tỉnh    Mã xe Năm sản xuất  \\\n",
       "0  Audi A8 L 55 TFSI Quattro - 2020  2950000000  TP HCM  5596529         2020   \n",
       "1           Audi A6 2.0 TFSI - 2014   560000000  Hà Nội  5555194         2014   \n",
       "2           Audi A4 2.0 TFSI - 2016   690000000  TP HCM  5464113         2016   \n",
       "3        Audi Q3 2.0 Quattro - 2016   699000000  Hà Nội  5532313         2016   \n",
       "4           Audi A4 2.0 TFSI - 2017   799000000  TP HCM  5346160         2017   \n",
       "\n",
       "   Tình trạng Số Km đã đi    Xuất xứ  Kiểu dáng      Hộp số      Động cơ  \\\n",
       "0  Xe đã dùng   30,000 Km  Nhập khẩu      Sedan  Số tự động  Xăng  3.0 L   \n",
       "1  Xe đã dùng   94,000 Km  Nhập khẩu      Sedan  Số tự động  Xăng  2.0 L   \n",
       "2  Xe đã dùng   50,000 Km  Nhập khẩu      Sedan  Số tự động  Xăng  2.0 L   \n",
       "3  Xe đã dùng   76,000 Km  Nhập khẩu  Crossover  Số tự động  Xăng  2.0 L   \n",
       "4  Xe đã dùng        0 Km  Nhập khẩu      Sedan  Số tự động  Xăng  2.0 L   \n",
       "\n",
       "  Màu ngoại thất Màu nội thất Số chỗ ngồi Số cửa                     Dẫn động  \\\n",
       "0            Đen          Đen       5 chỗ  4 cửa  AWD - 4 bánh toàn thời gian   \n",
       "1           Xanh          Nâu       5 chỗ  4 cửa     FWD - Dẫn động cầu trước   \n",
       "2            Đen          Đen       5 chỗ  4 cửa     FWD - Dẫn động cầu trước   \n",
       "3           Xanh          Đen       5 chỗ  5 cửa  AWD - 4 bánh toàn thời gian   \n",
       "4            Đen          Nâu       5 chỗ  4 cửa     FWD - Dẫn động cầu trước   \n",
       "\n",
       "                                               Mô tả  \n",
       "0  AUDI A8L  \\r\\nSản xuất : 2020\\r\\nĐăng ký : 5/2...  \n",
       "1  Xe đi sướng lại ít tiền Audi A6 sx 2014 . 9 vạ...  \n",
       "2  AUDI A4 sản xuất 2016 đăng ký lần đầu 2017 nhậ...  \n",
       "3  Audi Q3 2016 \\r\\nOdo 76.000km 2 chủ lên thêm m...  \n",
       "4  Ngọc Quỳnh Autocar mới về Audi A4 đời 2017 màu...  "
      ]
     },
     "execution_count": 7,
     "metadata": {},
     "output_type": "execute_result"
    }
   ],
   "source": [
    "# Đọc file data.pkl\n",
    "df = pd.read_pickle('data/clean/data.pkl')\n",
    "df.head()"
   ]
  },
  {
   "cell_type": "code",
   "execution_count": 8,
   "metadata": {},
   "outputs": [
    {
     "data": {
      "text/html": [
       "<div>\n",
       "<style scoped>\n",
       "    .dataframe tbody tr th:only-of-type {\n",
       "        vertical-align: middle;\n",
       "    }\n",
       "\n",
       "    .dataframe tbody tr th {\n",
       "        vertical-align: top;\n",
       "    }\n",
       "\n",
       "    .dataframe thead th {\n",
       "        text-align: right;\n",
       "    }\n",
       "</style>\n",
       "<table border=\"1\" class=\"dataframe\">\n",
       "  <thead>\n",
       "    <tr style=\"text-align: right;\">\n",
       "      <th></th>\n",
       "      <th>URL</th>\n",
       "      <th>Tình trạng chung</th>\n",
       "      <th>Tên xe</th>\n",
       "      <th>Giá</th>\n",
       "      <th>Tỉnh</th>\n",
       "      <th>Mã xe</th>\n",
       "      <th>Năm sản xuất</th>\n",
       "      <th>Tình trạng</th>\n",
       "      <th>Số Km đã đi</th>\n",
       "      <th>Xuất xứ</th>\n",
       "      <th>Kiểu dáng</th>\n",
       "      <th>Hộp số</th>\n",
       "      <th>Động cơ</th>\n",
       "      <th>Màu ngoại thất</th>\n",
       "      <th>Màu nội thất</th>\n",
       "      <th>Số chỗ ngồi</th>\n",
       "      <th>Số cửa</th>\n",
       "      <th>Dẫn động</th>\n",
       "      <th>Mô tả</th>\n",
       "    </tr>\n",
       "  </thead>\n",
       "  <tbody>\n",
       "    <tr>\n",
       "      <th>count</th>\n",
       "      <td>30881</td>\n",
       "      <td>30881</td>\n",
       "      <td>30881</td>\n",
       "      <td>30881</td>\n",
       "      <td>30881</td>\n",
       "      <td>30881</td>\n",
       "      <td>30881</td>\n",
       "      <td>30881</td>\n",
       "      <td>24600</td>\n",
       "      <td>30881</td>\n",
       "      <td>30881</td>\n",
       "      <td>30881</td>\n",
       "      <td>30881</td>\n",
       "      <td>30881</td>\n",
       "      <td>30881</td>\n",
       "      <td>30881</td>\n",
       "      <td>30881</td>\n",
       "      <td>30881</td>\n",
       "      <td>30881</td>\n",
       "    </tr>\n",
       "    <tr>\n",
       "      <th>unique</th>\n",
       "      <td>30514</td>\n",
       "      <td>2</td>\n",
       "      <td>4743</td>\n",
       "      <td>2194</td>\n",
       "      <td>63</td>\n",
       "      <td>30514</td>\n",
       "      <td>36</td>\n",
       "      <td>2</td>\n",
       "      <td>1780</td>\n",
       "      <td>2</td>\n",
       "      <td>10</td>\n",
       "      <td>2</td>\n",
       "      <td>89</td>\n",
       "      <td>18</td>\n",
       "      <td>18</td>\n",
       "      <td>21</td>\n",
       "      <td>7</td>\n",
       "      <td>5</td>\n",
       "      <td>28182</td>\n",
       "    </tr>\n",
       "    <tr>\n",
       "      <th>top</th>\n",
       "      <td>https://bonbanh.com/xe-ford-ranger-xls-2.0l-4x...</td>\n",
       "      <td>Xe cũ</td>\n",
       "      <td>Toyota Land Cruiser 3.5 V6 - 2024</td>\n",
       "      <td>495000000</td>\n",
       "      <td>Hà Nội</td>\n",
       "      <td>5592465</td>\n",
       "      <td>2024</td>\n",
       "      <td>Xe đã dùng</td>\n",
       "      <td>0 Km</td>\n",
       "      <td>Lắp ráp trong nước</td>\n",
       "      <td>SUV</td>\n",
       "      <td>Số tự động</td>\n",
       "      <td>Xăng  2.0 L</td>\n",
       "      <td>Trắng</td>\n",
       "      <td>Đen</td>\n",
       "      <td>5 chỗ</td>\n",
       "      <td>5 cửa</td>\n",
       "      <td>FWD - Dẫn động cầu trước</td>\n",
       "      <td>CHỈ CÒN 3 NGÀY CUỐI NHẬN CHÍNH SÁCH ĐẶC QUYỀN\\...</td>\n",
       "    </tr>\n",
       "    <tr>\n",
       "      <th>freq</th>\n",
       "      <td>2</td>\n",
       "      <td>24600</td>\n",
       "      <td>144</td>\n",
       "      <td>192</td>\n",
       "      <td>16834</td>\n",
       "      <td>2</td>\n",
       "      <td>4603</td>\n",
       "      <td>24600</td>\n",
       "      <td>3864</td>\n",
       "      <td>17464</td>\n",
       "      <td>12041</td>\n",
       "      <td>26521</td>\n",
       "      <td>7413</td>\n",
       "      <td>10518</td>\n",
       "      <td>13781</td>\n",
       "      <td>20823</td>\n",
       "      <td>18314</td>\n",
       "      <td>16488</td>\n",
       "      <td>54</td>\n",
       "    </tr>\n",
       "  </tbody>\n",
       "</table>\n",
       "</div>"
      ],
      "text/plain": [
       "                                                      URL Tình trạng chung  \\\n",
       "count                                               30881            30881   \n",
       "unique                                              30514                2   \n",
       "top     https://bonbanh.com/xe-ford-ranger-xls-2.0l-4x...            Xe cũ   \n",
       "freq                                                    2            24600   \n",
       "\n",
       "                                   Tên xe        Giá    Tỉnh    Mã xe  \\\n",
       "count                               30881      30881   30881    30881   \n",
       "unique                               4743       2194      63    30514   \n",
       "top     Toyota Land Cruiser 3.5 V6 - 2024  495000000  Hà Nội  5592465   \n",
       "freq                                  144        192   16834        2   \n",
       "\n",
       "       Năm sản xuất  Tình trạng Số Km đã đi             Xuất xứ Kiểu dáng  \\\n",
       "count         30881       30881       24600               30881     30881   \n",
       "unique           36           2        1780                   2        10   \n",
       "top            2024  Xe đã dùng        0 Km  Lắp ráp trong nước       SUV   \n",
       "freq           4603       24600        3864               17464     12041   \n",
       "\n",
       "            Hộp số      Động cơ Màu ngoại thất Màu nội thất Số chỗ ngồi  \\\n",
       "count        30881        30881          30881        30881       30881   \n",
       "unique           2           89             18           18          21   \n",
       "top     Số tự động  Xăng  2.0 L          Trắng          Đen       5 chỗ   \n",
       "freq         26521         7413          10518        13781       20823   \n",
       "\n",
       "       Số cửa                  Dẫn động  \\\n",
       "count   30881                     30881   \n",
       "unique      7                         5   \n",
       "top     5 cửa  FWD - Dẫn động cầu trước   \n",
       "freq    18314                     16488   \n",
       "\n",
       "                                                    Mô tả  \n",
       "count                                               30881  \n",
       "unique                                              28182  \n",
       "top     CHỈ CÒN 3 NGÀY CUỐI NHẬN CHÍNH SÁCH ĐẶC QUYỀN\\...  \n",
       "freq                                                   54  "
      ]
     },
     "execution_count": 8,
     "metadata": {},
     "output_type": "execute_result"
    }
   ],
   "source": [
    "# Mô tả các cột\n",
    "df.describe()"
   ]
  },
  {
   "cell_type": "code",
   "execution_count": 9,
   "metadata": {},
   "outputs": [
    {
     "name": "stdout",
     "output_type": "stream",
     "text": [
      "<class 'pandas.core.frame.DataFrame'>\n",
      "RangeIndex: 30881 entries, 0 to 30880\n",
      "Data columns (total 19 columns):\n",
      " #   Column            Non-Null Count  Dtype \n",
      "---  ------            --------------  ----- \n",
      " 0   URL               30881 non-null  object\n",
      " 1   Tình trạng chung  30881 non-null  object\n",
      " 2   Tên xe            30881 non-null  object\n",
      " 3   Giá               30881 non-null  object\n",
      " 4   Tỉnh              30881 non-null  object\n",
      " 5   Mã xe             30881 non-null  object\n",
      " 6   Năm sản xuất      30881 non-null  object\n",
      " 7   Tình trạng        30881 non-null  object\n",
      " 8   Số Km đã đi       24600 non-null  object\n",
      " 9   Xuất xứ           30881 non-null  object\n",
      " 10  Kiểu dáng         30881 non-null  object\n",
      " 11  Hộp số            30881 non-null  object\n",
      " 12  Động cơ           30881 non-null  object\n",
      " 13  Màu ngoại thất    30881 non-null  object\n",
      " 14  Màu nội thất      30881 non-null  object\n",
      " 15  Số chỗ ngồi       30881 non-null  object\n",
      " 16  Số cửa            30881 non-null  object\n",
      " 17  Dẫn động          30881 non-null  object\n",
      " 18  Mô tả             30881 non-null  object\n",
      "dtypes: object(19)\n",
      "memory usage: 4.5+ MB\n"
     ]
    }
   ],
   "source": [
    "# Thông tin của dataframe\n",
    "df.info()\n",
    "\n",
    "# Xóa các hàng trùng lặp\n",
    "df = df.drop_duplicates()"
   ]
  },
  {
   "cell_type": "code",
   "execution_count": 10,
   "metadata": {},
   "outputs": [
    {
     "data": {
      "text/plain": [
       "URL                 30514\n",
       "Tình trạng chung        2\n",
       "Tên xe               4743\n",
       "Giá                  2194\n",
       "Tỉnh                   63\n",
       "Mã xe               30514\n",
       "Năm sản xuất           36\n",
       "Tình trạng              2\n",
       "Số Km đã đi          1780\n",
       "Xuất xứ                 2\n",
       "Kiểu dáng              10\n",
       "Hộp số                  2\n",
       "Động cơ                89\n",
       "Màu ngoại thất         18\n",
       "Màu nội thất           18\n",
       "Số chỗ ngồi            21\n",
       "Số cửa                  7\n",
       "Dẫn động                5\n",
       "Mô tả               28182\n",
       "dtype: int64"
      ]
     },
     "execution_count": 10,
     "metadata": {},
     "output_type": "execute_result"
    }
   ],
   "source": [
    "# Các giá trị của mỗi cột\n",
    "df.nunique()"
   ]
  },
  {
   "cell_type": "code",
   "execution_count": 11,
   "metadata": {},
   "outputs": [
    {
     "data": {
      "text/plain": [
       "URL                    0\n",
       "Tình trạng chung       0\n",
       "Tên xe                 0\n",
       "Giá                    0\n",
       "Tỉnh                   0\n",
       "Mã xe                  0\n",
       "Năm sản xuất           0\n",
       "Tình trạng             0\n",
       "Số Km đã đi         6204\n",
       "Xuất xứ                0\n",
       "Kiểu dáng              0\n",
       "Hộp số                 0\n",
       "Động cơ                0\n",
       "Màu ngoại thất         0\n",
       "Màu nội thất           0\n",
       "Số chỗ ngồi            0\n",
       "Số cửa                 0\n",
       "Dẫn động               0\n",
       "Mô tả                  0\n",
       "dtype: int64"
      ]
     },
     "execution_count": 11,
     "metadata": {},
     "output_type": "execute_result"
    }
   ],
   "source": [
    "# Các giá trị còn thiếu\n",
    "df.isnull().sum()"
   ]
  },
  {
   "cell_type": "code",
   "execution_count": 12,
   "metadata": {},
   "outputs": [],
   "source": [
    "# Loại bỏ phần ' km' và chuyển đổi kiểu dữ liệu của cột 'Số Km đã đi'\n",
    "df['Số Km đã đi'] = df['Số Km đã đi'].str.replace(' Km', '').str.replace(',', '').astype(float)"
   ]
  },
  {
   "cell_type": "code",
   "execution_count": 13,
   "metadata": {},
   "outputs": [],
   "source": [
    "# Gán giá trị 0 cho cột 'Số Km đã đi' nếu cột 'Tình trạng' là 'Xe mới'\n",
    "df.loc[df['Tình trạng'] == 'Xe mới', 'Số Km đã đi'] = 0"
   ]
  },
  {
   "cell_type": "code",
   "execution_count": 14,
   "metadata": {},
   "outputs": [
    {
     "data": {
      "text/plain": [
       "URL                 0\n",
       "Tình trạng chung    0\n",
       "Tên xe              0\n",
       "Giá                 0\n",
       "Tỉnh                0\n",
       "Mã xe               0\n",
       "Năm sản xuất        0\n",
       "Tình trạng          0\n",
       "Số Km đã đi         0\n",
       "Xuất xứ             0\n",
       "Kiểu dáng           0\n",
       "Hộp số              0\n",
       "Động cơ             0\n",
       "Màu ngoại thất      0\n",
       "Màu nội thất        0\n",
       "Số chỗ ngồi         0\n",
       "Số cửa              0\n",
       "Dẫn động            0\n",
       "Mô tả               0\n",
       "dtype: int64"
      ]
     },
     "execution_count": 14,
     "metadata": {},
     "output_type": "execute_result"
    }
   ],
   "source": [
    "df.isnull().sum()"
   ]
  },
  {
   "cell_type": "code",
   "execution_count": 15,
   "metadata": {},
   "outputs": [],
   "source": [
    "# Xóa những hàng sai ở cột \"Số km đã đi\"\n",
    "# Lọc ra những hàng cần xóa\n",
    "rows_to_drop = df[(df['Tình trạng'] == 'Xe đã dùng') & (df['Số Km đã đi'] == 0)].index\n",
    "\n",
    "# Xóa các hàng tương ứng\n",
    "df = df.drop(rows_to_drop)"
   ]
  },
  {
   "cell_type": "markdown",
   "metadata": {},
   "source": [
    "# Preparation"
   ]
  },
  {
   "cell_type": "code",
   "execution_count": 16,
   "metadata": {},
   "outputs": [
    {
     "data": {
      "text/plain": [
       "array(['Xăng  3.0 L', 'Xăng  2.0 L', 'Xăng  4.2 L', 'Xăng  4.0 L',\n",
       "       'Xăng  3.6 L', 'Xăng  1.4 L', 'Xăng  3.2 L', 'Xăng  1.8 L', 'Điện',\n",
       "       'Xăng  5.2 L', 'Xăng', 'Xăng  1.0 L', 'Xăng  6.0 L', 'Xăng  6.8 L',\n",
       "       'Xăng  1.5 L', 'Hybrid  4.4 L', 'Xăng  1.6 L', 'Xăng  4.8 L',\n",
       "       'Xăng  4.4 L', 'Hybrid  1.5 L', 'Xăng  2.5 L', 'Xăng  5.0 L',\n",
       "       'Dầu  3.0 L', 'Dầu  2.5 L', 'Xăng  1.2 L', 'Xăng  2.4 L',\n",
       "       'Dầu  2.8 L', 'Xăng  0.8 L', 'Dầu  2.0 L', 'Dầu  2.4 L',\n",
       "       'Xăng  2.3 L', 'Dầu  2.2 L', 'Xăng  3.5 L', 'Dầu  3.2 L', 'Dầu',\n",
       "       'Dầu  6.7 L', 'Xăng  2.6 L', 'Xăng  4.6 L', 'Hybrid  2.0 L',\n",
       "       'Xăng  2.2 L', 'Xăng  1.25 L', 'Xăng  2.7 L', 'Hybrid  1.6 L',\n",
       "       'Xăng  1.1 L', 'Dầu  3.9 L', 'Xăng  3.8 L', 'Dầu  11.1 L',\n",
       "       'Xăng  3.3 L', 'Dầu  5.2 L', 'Dầu  1.9 L', 'Dầu  3.6 L',\n",
       "       'Dầu  1.7 L', 'Dầu  4.4 L', 'Hybrid  3.0 L', 'Xăng  3.4 L',\n",
       "       'Xăng  4.7 L', 'Xăng  5.7 L', 'Hybrid  2.4 L', 'Hybrid  2.5 L',\n",
       "       'Hybrid  3.5 L', 'Xăng  4.3 L', 'Hybrid  3.3 L', 'Xăng  3.7 L',\n",
       "       'Dầu  2.1 L', 'Xăng  5.5 L', 'Điện  0.7 L', 'Xăng  1.3 L',\n",
       "       'Xăng  6.2 L', 'Điện  1.1 L', 'Điện  0.2 L', 'Dầu  2.9 L',\n",
       "       'Điện  0.9 L', 'Điện  0.4 L', 'Dầu  2.3 L', 'Hybrid  1.2 L',\n",
       "       'Xăng  2.9 L', 'Hybrid  1.8 L', 'Xăng  4.5 L', 'Xăng  2.8 L',\n",
       "       'Dầu  4.2 L', 'Điện  0.6 L', 'Điện  0.3 L', 'Điện  0.1 L',\n",
       "       'Hybrid'], dtype=object)"
      ]
     },
     "execution_count": 16,
     "metadata": {},
     "output_type": "execute_result"
    }
   ],
   "source": [
    "df[\"Động cơ\"].unique()"
   ]
  },
  {
   "cell_type": "code",
   "execution_count": 17,
   "metadata": {},
   "outputs": [],
   "source": [
    "# Tách loại động cơ từ cột động cơ\n",
    "df['Loại động cơ'] = df['Động cơ'].apply(lambda x: x.split(' ')[0])\n",
    "# Tách dung tích từ cột động cơ\n",
    "df['Dung tích'] = df['Động cơ'].apply(lambda x: float(x.split(' ')[-2]) if len(x.split(' ')) > 1 else None)\n"
   ]
  },
  {
   "cell_type": "code",
   "execution_count": 18,
   "metadata": {},
   "outputs": [
    {
     "name": "stdout",
     "output_type": "stream",
     "text": [
      "Số lượng giá trị NaN trong cột 'Dung tích': 278\n"
     ]
    }
   ],
   "source": [
    "nan_count = df['Dung tích'].isna().sum()\n",
    "print(\"Số lượng giá trị NaN trong cột 'Dung tích':\", nan_count)"
   ]
  },
  {
   "cell_type": "code",
   "execution_count": 19,
   "metadata": {},
   "outputs": [],
   "source": [
    "df.dropna(subset=['Dung tích'], inplace=True)"
   ]
  },
  {
   "cell_type": "code",
   "execution_count": 20,
   "metadata": {},
   "outputs": [],
   "source": [
    "# Hàm để cắt phần năm từ tên xe\n",
    "def cut_year(name):\n",
    "    if '-' in name:\n",
    "        name = name.rsplit('-', 1)[0]\n",
    "    return name.strip()\n",
    "\n",
    "# Cắt phần năm từ cột tên xe\n",
    "df['Tên xe'] = df['Tên xe'].apply(cut_year)\n",
    "\n",
    "# Tách tên hãng xe và tên dòng xe từ cột tên xe\n",
    "df['Tên hãng xe'] = df['Tên xe'].apply(lambda x: x.split(' ')[0])\n",
    "df['Tên dòng xe'] = df['Tên xe'].apply(lambda x: ' '.join(x.split(' ')[1:]))\n"
   ]
  },
  {
   "cell_type": "code",
   "execution_count": 21,
   "metadata": {},
   "outputs": [],
   "source": [
    "# Định nghĩa thứ tự mới của các cột\n",
    "new_order = ['Tên hãng xe', 'Tên dòng xe', 'Năm sản xuất', 'Giá'] + [c for c in df.columns if c not in ['Tên hãng xe', 'Tên dòng xe','Năm sản xuất', 'Giá']]\n",
    "\n",
    "# Sắp xếp lại các cột theo thứ tự mới\n",
    "df = df.reindex(columns=new_order)\n",
    "\n",
    "# Xóa các cột 'URL' 'Mã xe', 'Tình trạng chung', 'Mô tả'\n",
    "df = df.drop(['URL','Tên xe', 'Mã xe', 'Tình trạng chung', 'Mô tả', 'Động cơ'], axis=1)"
   ]
  },
  {
   "cell_type": "code",
   "execution_count": 22,
   "metadata": {},
   "outputs": [],
   "source": [
    "# Đổi kiểu dữ liệu năm\n",
    "df['Năm sản xuất'] = df['Năm sản xuất'].astype(float)\n",
    "\n",
    "# Chuyển đổi kiểu dữ liệu của cột 'Giá xe' thành float\n",
    "df['Giá'] = df['Giá'].astype(float)\n",
    "\n",
    "# Chuyển đổi cột 'số chỗ ngồi' thành float\n",
    "df['Số chỗ ngồi'] = df['Số chỗ ngồi'].str.split(' ').str[0].astype(float)\n",
    "\n",
    "# Chuyển đổi cột 'số cửa' thành float\n",
    "df['Số cửa'] = df['Số cửa'].str.split(' ').str[0].astype(float)"
   ]
  },
  {
   "cell_type": "code",
   "execution_count": 23,
   "metadata": {},
   "outputs": [
    {
     "name": "stdout",
     "output_type": "stream",
     "text": [
      "Số lượng cột của DataFrame:  17\n"
     ]
    }
   ],
   "source": [
    "# Lưu dataframe vào file data.pkl \n",
    "df . to_pickle ( 'data/clean/data.pkl' ) \n",
    "\n",
    "# Lưu dataframe vào file Excel \n",
    "df . to_excel ( 'data/clean/data.xlsx' ) \n",
    "\n",
    "# Lấy số lượng cột của DataFrame \n",
    "num_columns  =  df . shape [ 1 ] \n",
    "\n",
    "# In ra số lượng cột \n",
    "print ( \"Số lượng cột của DataFrame: \" ,  num_columns ) "
   ]
  }
 ],
 "metadata": {
  "kernelspec": {
   "display_name": "Python 3 (ipykernel)",
   "language": "python",
   "name": "python3"
  },
  "language_info": {
   "codemirror_mode": {
    "name": "ipython",
    "version": 3
   },
   "file_extension": ".py",
   "mimetype": "text/x-python",
   "name": "python",
   "nbconvert_exporter": "python",
   "pygments_lexer": "ipython3",
   "version": "3.11.9"
  }
 },
 "nbformat": 4,
 "nbformat_minor": 2
}
