{
 "cells": [
  {
   "cell_type": "code",
   "execution_count": 5,
   "metadata": {},
   "outputs": [
    {
     "name": "stdout",
     "output_type": "stream",
     "text": [
      "30881\n"
     ]
    }
   ],
   "source": [
    "import os\n",
    "import pickle\n",
    "import pandas as pd\n",
    "\n",
    "def combine_pickle_files(directory_path, output_file):\n",
    "    # Kiểm tra xem file data.pkl đã tồn tại chưa\n",
    "    if os.path.exists(output_file):\n",
    "        with open(output_file, 'rb') as f:\n",
    "            data_df = pickle.load(f)  # Nếu có, đọc dữ liệu hiện tại từ file\n",
    "    else:\n",
    "        data_df = pd.DataFrame()  # Nếu không, khởi tạo một DataFrame trống\n",
    "\n",
    "    for file_name in os.listdir(directory_path):\n",
    "        if file_name.endswith('.pkl'):\n",
    "            file_path = os.path.join(directory_path, file_name)\n",
    "            with open(file_path, 'rb') as f:\n",
    "                content = pickle.load(f)\n",
    "                if isinstance(content, pd.DataFrame):\n",
    "                    data_df = pd.concat([data_df, content], ignore_index=True)\n",
    "\n",
    "    with open(output_file, 'wb') as out:\n",
    "        pickle.dump(data_df, out, protocol=pickle.HIGHEST_PROTOCOL)\n",
    "        print(len(data_df))\n",
    "\n",
    "# Sử dụng hàm:\n",
    "directory_path = 'data/clean'\n",
    "output_file = 'data/clean/data.pkl'\n",
    "combine_pickle_files(directory_path, output_file)"
   ]
  },
  {
   "cell_type": "code",
   "execution_count": 6,
   "metadata": {},
   "outputs": [
    {
     "name": "stdout",
     "output_type": "stream",
     "text": [
      "Độ dài của file bonbanh.mercedes_benz.pkl là: 3329\n",
      "Độ dài của file bonbanh.mini.pkl là: 113\n",
      "Độ dài của file bonbanh.porsche.pkl là: 429\n",
      "Độ dài của file bonbanh.isuzu.pkl là: 120\n",
      "Độ dài của file bonbanh.kia.pkl là: 2900\n",
      "Độ dài của file bonbanh.chevrolet.pkl là: 554\n",
      "Độ dài của file data.pkl là: 30881\n",
      "Độ dài của file bonbanh.honda.pkl là: 1352\n",
      "Độ dài của file bonbanh.subaru.pkl là: 212\n",
      "Độ dài của file bonbanh.vinfast.pkl là: 969\n",
      "Độ dài của file bonbanh.volkswagen.pkl là: 361\n",
      "Độ dài của file bonbanh.suzuki.pkl là: 343\n",
      "Độ dài của file bonbanh.landrover.pkl là: 411\n",
      "Độ dài của file bonbanh.peugeot.pkl là: 275\n",
      "Độ dài của file bonbanh.nissan.pkl là: 300\n",
      "Độ dài của file bonbanh.toyota.pkl là: 5860\n",
      "Độ dài của file bonbanh.bmw.pkl là: 682\n",
      "Độ dài của file bonbanh.lexus.pkl là: 1177\n",
      "Độ dài của file bonbanh.daewoo.pkl là: 248\n",
      "Độ dài của file bonbanh.mg.pkl là: 376\n",
      "Độ dài của file bonbanh.jeep.pkl là: 89\n",
      "Độ dài của file bonbanh.audi.pkl là: 315\n",
      "Độ dài của file bonbanh.mazda.pkl là: 2147\n",
      "Độ dài của file bonbanh.volvo.pkl là: 150\n",
      "Độ dài của file bonbanh.hyundai.pkl là: 3475\n",
      "Độ dài của file bonbanh.mitsubishi.pkl là: 1474\n",
      "Độ dài của file bonbanh.bentley.pkl là: 65\n",
      "Độ dài của file bonbanh.ford.pkl là: 3155\n"
     ]
    }
   ],
   "source": [
    "# Đường dẫn đến thư mục chứa các file .pkl\n",
    "folder_path = 'data/clean'\n",
    "\n",
    "# Duyệt qua tất cả các file trong thư mục\n",
    "for filename in os.listdir(folder_path):\n",
    "    # Kiểm tra nếu file có phần mở rộng là .pkl\n",
    "    if filename.endswith('.pkl'):\n",
    "        file_path = os.path.join(folder_path, filename)\n",
    "        \n",
    "        # Mở và đọc file .pkl\n",
    "        with open(file_path, 'rb') as f:\n",
    "            data = pickle.load(f)\n",
    "        \n",
    "        # In ra độ dài của dữ liệu\n",
    "        print(f'Độ dài của file {filename} là: {len(data)}')\n"
   ]
  },
  {
   "cell_type": "code",
   "execution_count": 7,
   "metadata": {},
   "outputs": [
    {
     "ename": "IllegalCharacterError",
     "evalue": "V e n m S a chào bán xe lướt chính hãng sử dụng odo 4.090KM! \r\nXE NỘI BỘ SỬ DỤNG \r\nMercedes Benz C200 Avan Plus V1 phiên bản mới nhất hiện nay sử dụng màn hình mới, thiết kế mới\r\nSố khung 2022 đăng ký 1/2023\r\nTiết kiệm 400 triệu so với mua xe mới \n\r\nLợi thế khi mua xe lướt chính hãng:\r\n ̂́ ̛ ̛́ ̣ chỉ 2% \r\n Hỗ trợ lãi xuất 8%/năm, vay tối đa 70-80%/giá trị xe\r\n \bCam kết xe không đâm đụng, không tua đồng hồ KM, kiểm tra an toàn chất lượng 110 điểm trước khi giao bằng văn bản\r\n Hỗ trợ đăng ký xe toàn quốc\r\n Bấm biển số mới, xuất hoá đơn đầy đủ \r\n Combo phụ kiện độc quyền nhập khẩu Germany\r\n Bảo hành 3 năm không giới hạn Km\r\nLiên hệ em ngay để nhận thêm chi tiết cụ thể ạ cannot be used in worksheets.",
     "output_type": "error",
     "traceback": [
      "\u001b[0;31m---------------------------------------------------------------------------\u001b[0m",
      "\u001b[0;31mIllegalCharacterError\u001b[0m                     Traceback (most recent call last)",
      "Cell \u001b[0;32mIn[7], line 12\u001b[0m\n\u001b[1;32m      9\u001b[0m df\u001b[38;5;241m.\u001b[39mto_pickle(\u001b[38;5;124m'\u001b[39m\u001b[38;5;124mdata/clean/data.pkl\u001b[39m\u001b[38;5;124m'\u001b[39m)\n\u001b[1;32m     11\u001b[0m \u001b[38;5;66;03m# Lưu dataframe vào file Excel\u001b[39;00m\n\u001b[0;32m---> 12\u001b[0m \u001b[43mdf\u001b[49m\u001b[38;5;241;43m.\u001b[39;49m\u001b[43mto_excel\u001b[49m\u001b[43m(\u001b[49m\u001b[38;5;124;43m'\u001b[39;49m\u001b[38;5;124;43mdata/clean/data.xlsx\u001b[39;49m\u001b[38;5;124;43m'\u001b[39;49m\u001b[43m)\u001b[49m\n\u001b[1;32m     13\u001b[0m \u001b[38;5;28mprint\u001b[39m(df)\n",
      "File \u001b[0;32m~/miniconda3/envs/ml-env/lib/python3.12/site-packages/pandas/util/_decorators.py:333\u001b[0m, in \u001b[0;36mdeprecate_nonkeyword_arguments.<locals>.decorate.<locals>.wrapper\u001b[0;34m(*args, **kwargs)\u001b[0m\n\u001b[1;32m    327\u001b[0m \u001b[38;5;28;01mif\u001b[39;00m \u001b[38;5;28mlen\u001b[39m(args) \u001b[38;5;241m>\u001b[39m num_allow_args:\n\u001b[1;32m    328\u001b[0m     warnings\u001b[38;5;241m.\u001b[39mwarn(\n\u001b[1;32m    329\u001b[0m         msg\u001b[38;5;241m.\u001b[39mformat(arguments\u001b[38;5;241m=\u001b[39m_format_argument_list(allow_args)),\n\u001b[1;32m    330\u001b[0m         \u001b[38;5;167;01mFutureWarning\u001b[39;00m,\n\u001b[1;32m    331\u001b[0m         stacklevel\u001b[38;5;241m=\u001b[39mfind_stack_level(),\n\u001b[1;32m    332\u001b[0m     )\n\u001b[0;32m--> 333\u001b[0m \u001b[38;5;28;01mreturn\u001b[39;00m \u001b[43mfunc\u001b[49m\u001b[43m(\u001b[49m\u001b[38;5;241;43m*\u001b[39;49m\u001b[43margs\u001b[49m\u001b[43m,\u001b[49m\u001b[43m \u001b[49m\u001b[38;5;241;43m*\u001b[39;49m\u001b[38;5;241;43m*\u001b[39;49m\u001b[43mkwargs\u001b[49m\u001b[43m)\u001b[49m\n",
      "File \u001b[0;32m~/miniconda3/envs/ml-env/lib/python3.12/site-packages/pandas/core/generic.py:2417\u001b[0m, in \u001b[0;36mNDFrame.to_excel\u001b[0;34m(self, excel_writer, sheet_name, na_rep, float_format, columns, header, index, index_label, startrow, startcol, engine, merge_cells, inf_rep, freeze_panes, storage_options, engine_kwargs)\u001b[0m\n\u001b[1;32m   2404\u001b[0m \u001b[38;5;28;01mfrom\u001b[39;00m \u001b[38;5;21;01mpandas\u001b[39;00m\u001b[38;5;21;01m.\u001b[39;00m\u001b[38;5;21;01mio\u001b[39;00m\u001b[38;5;21;01m.\u001b[39;00m\u001b[38;5;21;01mformats\u001b[39;00m\u001b[38;5;21;01m.\u001b[39;00m\u001b[38;5;21;01mexcel\u001b[39;00m \u001b[38;5;28;01mimport\u001b[39;00m ExcelFormatter\n\u001b[1;32m   2406\u001b[0m formatter \u001b[38;5;241m=\u001b[39m ExcelFormatter(\n\u001b[1;32m   2407\u001b[0m     df,\n\u001b[1;32m   2408\u001b[0m     na_rep\u001b[38;5;241m=\u001b[39mna_rep,\n\u001b[0;32m   (...)\u001b[0m\n\u001b[1;32m   2415\u001b[0m     inf_rep\u001b[38;5;241m=\u001b[39minf_rep,\n\u001b[1;32m   2416\u001b[0m )\n\u001b[0;32m-> 2417\u001b[0m \u001b[43mformatter\u001b[49m\u001b[38;5;241;43m.\u001b[39;49m\u001b[43mwrite\u001b[49m\u001b[43m(\u001b[49m\n\u001b[1;32m   2418\u001b[0m \u001b[43m    \u001b[49m\u001b[43mexcel_writer\u001b[49m\u001b[43m,\u001b[49m\n\u001b[1;32m   2419\u001b[0m \u001b[43m    \u001b[49m\u001b[43msheet_name\u001b[49m\u001b[38;5;241;43m=\u001b[39;49m\u001b[43msheet_name\u001b[49m\u001b[43m,\u001b[49m\n\u001b[1;32m   2420\u001b[0m \u001b[43m    \u001b[49m\u001b[43mstartrow\u001b[49m\u001b[38;5;241;43m=\u001b[39;49m\u001b[43mstartrow\u001b[49m\u001b[43m,\u001b[49m\n\u001b[1;32m   2421\u001b[0m \u001b[43m    \u001b[49m\u001b[43mstartcol\u001b[49m\u001b[38;5;241;43m=\u001b[39;49m\u001b[43mstartcol\u001b[49m\u001b[43m,\u001b[49m\n\u001b[1;32m   2422\u001b[0m \u001b[43m    \u001b[49m\u001b[43mfreeze_panes\u001b[49m\u001b[38;5;241;43m=\u001b[39;49m\u001b[43mfreeze_panes\u001b[49m\u001b[43m,\u001b[49m\n\u001b[1;32m   2423\u001b[0m \u001b[43m    \u001b[49m\u001b[43mengine\u001b[49m\u001b[38;5;241;43m=\u001b[39;49m\u001b[43mengine\u001b[49m\u001b[43m,\u001b[49m\n\u001b[1;32m   2424\u001b[0m \u001b[43m    \u001b[49m\u001b[43mstorage_options\u001b[49m\u001b[38;5;241;43m=\u001b[39;49m\u001b[43mstorage_options\u001b[49m\u001b[43m,\u001b[49m\n\u001b[1;32m   2425\u001b[0m \u001b[43m    \u001b[49m\u001b[43mengine_kwargs\u001b[49m\u001b[38;5;241;43m=\u001b[39;49m\u001b[43mengine_kwargs\u001b[49m\u001b[43m,\u001b[49m\n\u001b[1;32m   2426\u001b[0m \u001b[43m\u001b[49m\u001b[43m)\u001b[49m\n",
      "File \u001b[0;32m~/miniconda3/envs/ml-env/lib/python3.12/site-packages/pandas/io/formats/excel.py:952\u001b[0m, in \u001b[0;36mExcelFormatter.write\u001b[0;34m(self, writer, sheet_name, startrow, startcol, freeze_panes, engine, storage_options, engine_kwargs)\u001b[0m\n\u001b[1;32m    949\u001b[0m     need_save \u001b[38;5;241m=\u001b[39m \u001b[38;5;28;01mTrue\u001b[39;00m\n\u001b[1;32m    951\u001b[0m \u001b[38;5;28;01mtry\u001b[39;00m:\n\u001b[0;32m--> 952\u001b[0m     \u001b[43mwriter\u001b[49m\u001b[38;5;241;43m.\u001b[39;49m\u001b[43m_write_cells\u001b[49m\u001b[43m(\u001b[49m\n\u001b[1;32m    953\u001b[0m \u001b[43m        \u001b[49m\u001b[43mformatted_cells\u001b[49m\u001b[43m,\u001b[49m\n\u001b[1;32m    954\u001b[0m \u001b[43m        \u001b[49m\u001b[43msheet_name\u001b[49m\u001b[43m,\u001b[49m\n\u001b[1;32m    955\u001b[0m \u001b[43m        \u001b[49m\u001b[43mstartrow\u001b[49m\u001b[38;5;241;43m=\u001b[39;49m\u001b[43mstartrow\u001b[49m\u001b[43m,\u001b[49m\n\u001b[1;32m    956\u001b[0m \u001b[43m        \u001b[49m\u001b[43mstartcol\u001b[49m\u001b[38;5;241;43m=\u001b[39;49m\u001b[43mstartcol\u001b[49m\u001b[43m,\u001b[49m\n\u001b[1;32m    957\u001b[0m \u001b[43m        \u001b[49m\u001b[43mfreeze_panes\u001b[49m\u001b[38;5;241;43m=\u001b[39;49m\u001b[43mfreeze_panes\u001b[49m\u001b[43m,\u001b[49m\n\u001b[1;32m    958\u001b[0m \u001b[43m    \u001b[49m\u001b[43m)\u001b[49m\n\u001b[1;32m    959\u001b[0m \u001b[38;5;28;01mfinally\u001b[39;00m:\n\u001b[1;32m    960\u001b[0m     \u001b[38;5;66;03m# make sure to close opened file handles\u001b[39;00m\n\u001b[1;32m    961\u001b[0m     \u001b[38;5;28;01mif\u001b[39;00m need_save:\n",
      "File \u001b[0;32m~/miniconda3/envs/ml-env/lib/python3.12/site-packages/pandas/io/excel/_openpyxl.py:490\u001b[0m, in \u001b[0;36mOpenpyxlWriter._write_cells\u001b[0;34m(self, cells, sheet_name, startrow, startcol, freeze_panes)\u001b[0m\n\u001b[1;32m    486\u001b[0m \u001b[38;5;28;01mfor\u001b[39;00m cell \u001b[38;5;129;01min\u001b[39;00m cells:\n\u001b[1;32m    487\u001b[0m     xcell \u001b[38;5;241m=\u001b[39m wks\u001b[38;5;241m.\u001b[39mcell(\n\u001b[1;32m    488\u001b[0m         row\u001b[38;5;241m=\u001b[39mstartrow \u001b[38;5;241m+\u001b[39m cell\u001b[38;5;241m.\u001b[39mrow \u001b[38;5;241m+\u001b[39m \u001b[38;5;241m1\u001b[39m, column\u001b[38;5;241m=\u001b[39mstartcol \u001b[38;5;241m+\u001b[39m cell\u001b[38;5;241m.\u001b[39mcol \u001b[38;5;241m+\u001b[39m \u001b[38;5;241m1\u001b[39m\n\u001b[1;32m    489\u001b[0m     )\n\u001b[0;32m--> 490\u001b[0m     \u001b[43mxcell\u001b[49m\u001b[38;5;241;43m.\u001b[39;49m\u001b[43mvalue\u001b[49m, fmt \u001b[38;5;241m=\u001b[39m \u001b[38;5;28mself\u001b[39m\u001b[38;5;241m.\u001b[39m_value_with_fmt(cell\u001b[38;5;241m.\u001b[39mval)\n\u001b[1;32m    491\u001b[0m     \u001b[38;5;28;01mif\u001b[39;00m fmt:\n\u001b[1;32m    492\u001b[0m         xcell\u001b[38;5;241m.\u001b[39mnumber_format \u001b[38;5;241m=\u001b[39m fmt\n",
      "File \u001b[0;32m~/miniconda3/envs/ml-env/lib/python3.12/site-packages/openpyxl/cell/cell.py:218\u001b[0m, in \u001b[0;36mCell.value\u001b[0;34m(self, value)\u001b[0m\n\u001b[1;32m    215\u001b[0m \u001b[38;5;129m@value\u001b[39m\u001b[38;5;241m.\u001b[39msetter\n\u001b[1;32m    216\u001b[0m \u001b[38;5;28;01mdef\u001b[39;00m \u001b[38;5;21mvalue\u001b[39m(\u001b[38;5;28mself\u001b[39m, value):\n\u001b[1;32m    217\u001b[0m \u001b[38;5;250m    \u001b[39m\u001b[38;5;124;03m\"\"\"Set the value and infer type and display options.\"\"\"\u001b[39;00m\n\u001b[0;32m--> 218\u001b[0m     \u001b[38;5;28;43mself\u001b[39;49m\u001b[38;5;241;43m.\u001b[39;49m\u001b[43m_bind_value\u001b[49m\u001b[43m(\u001b[49m\u001b[43mvalue\u001b[49m\u001b[43m)\u001b[49m\n",
      "File \u001b[0;32m~/miniconda3/envs/ml-env/lib/python3.12/site-packages/openpyxl/cell/cell.py:197\u001b[0m, in \u001b[0;36mCell._bind_value\u001b[0;34m(self, value)\u001b[0m\n\u001b[1;32m    194\u001b[0m         \u001b[38;5;28mself\u001b[39m\u001b[38;5;241m.\u001b[39mnumber_format \u001b[38;5;241m=\u001b[39m get_time_format(t)\n\u001b[1;32m    196\u001b[0m \u001b[38;5;28;01melif\u001b[39;00m dt \u001b[38;5;241m==\u001b[39m \u001b[38;5;124m\"\u001b[39m\u001b[38;5;124ms\u001b[39m\u001b[38;5;124m\"\u001b[39m \u001b[38;5;129;01mand\u001b[39;00m \u001b[38;5;129;01mnot\u001b[39;00m \u001b[38;5;28misinstance\u001b[39m(value, CellRichText):\n\u001b[0;32m--> 197\u001b[0m     value \u001b[38;5;241m=\u001b[39m \u001b[38;5;28;43mself\u001b[39;49m\u001b[38;5;241;43m.\u001b[39;49m\u001b[43mcheck_string\u001b[49m\u001b[43m(\u001b[49m\u001b[43mvalue\u001b[49m\u001b[43m)\u001b[49m\n\u001b[1;32m    198\u001b[0m     \u001b[38;5;28;01mif\u001b[39;00m \u001b[38;5;28mlen\u001b[39m(value) \u001b[38;5;241m>\u001b[39m \u001b[38;5;241m1\u001b[39m \u001b[38;5;129;01mand\u001b[39;00m value\u001b[38;5;241m.\u001b[39mstartswith(\u001b[38;5;124m\"\u001b[39m\u001b[38;5;124m=\u001b[39m\u001b[38;5;124m\"\u001b[39m):\n\u001b[1;32m    199\u001b[0m         \u001b[38;5;28mself\u001b[39m\u001b[38;5;241m.\u001b[39mdata_type \u001b[38;5;241m=\u001b[39m \u001b[38;5;124m'\u001b[39m\u001b[38;5;124mf\u001b[39m\u001b[38;5;124m'\u001b[39m\n",
      "File \u001b[0;32m~/miniconda3/envs/ml-env/lib/python3.12/site-packages/openpyxl/cell/cell.py:165\u001b[0m, in \u001b[0;36mCell.check_string\u001b[0;34m(self, value)\u001b[0m\n\u001b[1;32m    163\u001b[0m value \u001b[38;5;241m=\u001b[39m value[:\u001b[38;5;241m32767\u001b[39m]\n\u001b[1;32m    164\u001b[0m \u001b[38;5;28;01mif\u001b[39;00m \u001b[38;5;28mnext\u001b[39m(ILLEGAL_CHARACTERS_RE\u001b[38;5;241m.\u001b[39mfinditer(value), \u001b[38;5;28;01mNone\u001b[39;00m):\n\u001b[0;32m--> 165\u001b[0m     \u001b[38;5;28;01mraise\u001b[39;00m IllegalCharacterError(\u001b[38;5;124mf\u001b[39m\u001b[38;5;124m\"\u001b[39m\u001b[38;5;132;01m{\u001b[39;00mvalue\u001b[38;5;132;01m}\u001b[39;00m\u001b[38;5;124m cannot be used in worksheets.\u001b[39m\u001b[38;5;124m\"\u001b[39m)\n\u001b[1;32m    166\u001b[0m \u001b[38;5;28;01mreturn\u001b[39;00m value\n",
      "\u001b[0;31mIllegalCharacterError\u001b[0m: V e n m S a chào bán xe lướt chính hãng sử dụng odo 4.090KM! \r\nXE NỘI BỘ SỬ DỤNG \r\nMercedes Benz C200 Avan Plus V1 phiên bản mới nhất hiện nay sử dụng màn hình mới, thiết kế mới\r\nSố khung 2022 đăng ký 1/2023\r\nTiết kiệm 400 triệu so với mua xe mới \n\r\nLợi thế khi mua xe lướt chính hãng:\r\n ̂́ ̛ ̛́ ̣ chỉ 2% \r\n Hỗ trợ lãi xuất 8%/năm, vay tối đa 70-80%/giá trị xe\r\n \bCam kết xe không đâm đụng, không tua đồng hồ KM, kiểm tra an toàn chất lượng 110 điểm trước khi giao bằng văn bản\r\n Hỗ trợ đăng ký xe toàn quốc\r\n Bấm biển số mới, xuất hoá đơn đầy đủ \r\n Combo phụ kiện độc quyền nhập khẩu Germany\r\n Bảo hành 3 năm không giới hạn Km\r\nLiên hệ em ngay để nhận thêm chi tiết cụ thể ạ cannot be used in worksheets."
     ]
    }
   ],
   "source": [
    "# Đọc file data.pkl\n",
    "df = pd.read_pickle('data/clean/data.pkl')\n",
    "\n",
    "# Tách tên hãng xe và tên dòng xe từ cột tên xe\n",
    "df['Tên hãng xe'] = df['Tên xe'].apply(lambda x: x.split(' ')[0])\n",
    "df['Tên dòng xe'] = df['Tên xe'].apply(lambda x: ' '.join(x.split(' ')[1:]))\n",
    "\n",
    "# Lưu dataframe vào file data.pkl\n",
    "df.to_pickle('data/clean/data.pkl')\n",
    "\n",
    "# Lưu dataframe vào file Excel\n",
    "df.to_excel('data/clean/data.xlsx')\n",
    "print(df)"
   ]
  }
 ],
 "metadata": {
  "kernelspec": {
   "display_name": "ml-venv",
   "language": "python",
   "name": "python3"
  },
  "language_info": {
   "codemirror_mode": {
    "name": "ipython",
    "version": 3
   },
   "file_extension": ".py",
   "mimetype": "text/x-python",
   "name": "python",
   "nbconvert_exporter": "python",
   "pygments_lexer": "ipython3",
   "version": "3.12.3"
  }
 },
 "nbformat": 4,
 "nbformat_minor": 2
}
