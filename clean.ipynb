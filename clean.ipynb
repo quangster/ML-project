{
 "cells": [
  {
   "cell_type": "code",
   "execution_count": 9,
   "metadata": {},
   "outputs": [
    {
     "name": "stdout",
     "output_type": "stream",
     "text": [
      "Độ dài của file data.pkl là: 30881\n",
      "Độ dài của file bonbanh.nissan.pkl là: 300\n",
      "Độ dài của file bonbanh.isuzu.pkl là: 120\n",
      "Độ dài của file bonbanh.volkswagen.pkl là: 361\n",
      "Độ dài của file bonbanh.kia.pkl là: 2900\n",
      "Độ dài của file bonbanh.mitsubishi.pkl là: 1474\n",
      "Độ dài của file bonbanh.mercedes_benz.pkl là: 3329\n",
      "Độ dài của file bonbanh.volvo.pkl là: 150\n",
      "Độ dài của file bonbanh.peugeot.pkl là: 275\n",
      "Độ dài của file bonbanh.hyundai.pkl là: 3475\n",
      "Độ dài của file bonbanh.suzuki.pkl là: 343\n",
      "Độ dài của file bonbanh.chevrolet.pkl là: 554\n",
      "Độ dài của file bonbanh.ford.pkl là: 3155\n",
      "Độ dài của file bonbanh.daewoo.pkl là: 248\n",
      "Độ dài của file bonbanh.mini.pkl là: 113\n",
      "Độ dài của file bonbanh.landrover.pkl là: 411\n",
      "Độ dài của file bonbanh.vinfast.pkl là: 969\n",
      "Độ dài của file bonbanh.toyota.pkl là: 5860\n",
      "Độ dài của file bonbanh.lexus.pkl là: 1177\n",
      "Độ dài của file bonbanh.mg.pkl là: 376\n",
      "Độ dài của file bonbanh.jeep.pkl là: 89\n",
      "Độ dài của file bonbanh.honda.pkl là: 1352\n",
      "Độ dài của file bonbanh.subaru.pkl là: 212\n",
      "Độ dài của file bonbanh.bentley.pkl là: 65\n",
      "Độ dài của file bonbanh.porsche.pkl là: 429\n",
      "Độ dài của file bonbanh.mazda.pkl là: 2147\n",
      "Độ dài của file bonbanh.audi.pkl là: 315\n",
      "Độ dài của file bonbanh.bmw.pkl là: 682\n"
     ]
    }
   ],
   "source": [
    "import os\n",
    "import pickle\n",
    "import pandas as pd\n",
    "# Đường dẫn đến thư mục chứa các file .pkl\n",
    "folder_path = 'data/clean'\n",
    "\n",
    "# Duyệt qua tất cả các file trong thư mục\n",
    "for filename in os.listdir(folder_path):\n",
    "    # Kiểm tra nếu file có phần mở rộng là .pkl\n",
    "    if filename.endswith('.pkl'):\n",
    "        file_path = os.path.join(folder_path, filename)\n",
    "        \n",
    "        # Mở và đọc file .pkl\n",
    "        with open(file_path, 'rb') as f:\n",
    "            data = pickle.load(f)\n",
    "        \n",
    "        # In ra độ dài của dữ liệu\n",
    "        print(f'Độ dài của file {filename} là: {len(data)}')\n"
   ]
  },
  {
   "cell_type": "code",
   "execution_count": 10,
   "metadata": {},
   "outputs": [
    {
     "name": "stdout",
     "output_type": "stream",
     "text": [
      "URL                 0\n",
      "Tình trạng chung    0\n",
      "Tên xe              0\n",
      "Giá                 0\n",
      "Tỉnh                0\n",
      "Mã xe               0\n",
      "Năm sản xuất        0\n",
      "Tình trạng          0\n",
      "Số Km đã đi         0\n",
      "Xuất xứ             0\n",
      "Kiểu dáng           0\n",
      "Hộp số              0\n",
      "Động cơ             0\n",
      "Màu ngoại thất      0\n",
      "Màu nội thất        0\n",
      "Số chỗ ngồi         0\n",
      "Số cửa              0\n",
      "Dẫn động            0\n",
      "Mô tả               0\n",
      "dtype: int64\n",
      "  Tên hãng xe                Tên dòng xe Năm sản xuất    Giá    Tỉnh  Tình trạng  Số Km đã đi             Xuất xứ           Kiểu dáng      Hộp số      Động cơ Màu ngoại thất Màu nội thất Số chỗ ngồi Số cửa                  Dẫn động\n",
      "0      Nissan       Navara VL 2.5 AT 4WD         2017  485.0  Hà Nội  Xe đã dùng      60000.0           Nhập khẩu  Bán tải / Pickup  Số tự động   Dầu  2.5 L           Xanh          Ghi       5 chỗ  4 cửa     4WD - Dẫn động 4 bánh\n",
      "1      Nissan        Navara EL Premium R         2018  464.0  TP HCM  Xe đã dùng     130000.0           Nhập khẩu  Bán tải / Pickup  Số tự động   Dầu  2.5 L           Xanh          Đen       5 chỗ  4 cửa    RFD - Dẫn động cầu sau\n",
      "2      Nissan  Sunny Q Series XT Premium         2018  350.0  Hà Nội  Xe đã dùng      21099.0  Lắp ráp trong nước               Sedan  Số tự động  Xăng  1.5 L            Xám          Kem       5 chỗ  4 cửa  FWD - Dẫn động cầu trước\n",
      "3      Nissan       Navara VL 2.5 AT 4WD         2015  415.0  Hà Nội  Xe đã dùng     180000.0           Nhập khẩu  Bán tải / Pickup  Số tự động   Dầu  2.5 L            Cam          Kem       5 chỗ  4 cửa     4WD - Dẫn động 4 bánh\n",
      "4      Nissan  Almera VL 1.0 CVT Cao cấp         2022  510.0  TP HCM  Xe đã dùng      26000.0           Nhập khẩu               Sedan  Số tự động  Xăng  1.0 L             Đỏ          Đen       5 chỗ  4 cửa  FWD - Dẫn động cầu trước\n"
     ]
    }
   ],
   "source": [
    "# Đọc file data.pkl\n",
    "df = pd.read_pickle('data/clean/data.pkl')\n",
    "\n",
    "# Xóa các hàng chứa dữ liệu thiếu\n",
    "df = df.dropna()\n",
    "\n",
    "# Đếm dữ liệu bị thiếu\n",
    "print(df.isnull().sum())\n",
    "\n",
    "# Hàm để cắt phần năm từ tên xe\n",
    "def cut_year(name):\n",
    "    if '-' in name:\n",
    "        name = name.rsplit('-', 1)[0]\n",
    "    return name.strip()\n",
    "\n",
    "# Cắt phần năm từ cột tên xe\n",
    "df['Tên xe'] = df['Tên xe'].apply(cut_year)\n",
    "\n",
    "# Tách tên hãng xe và tên dòng xe từ cột tên xe\n",
    "df['Tên hãng xe'] = df['Tên xe'].apply(lambda x: x.split(' ')[0])\n",
    "df['Tên dòng xe'] = df['Tên xe'].apply(lambda x: ' '.join(x.split(' ')[1:]))\n",
    "\n",
    "# Xóa các hàng trùng lặp\n",
    "df = df.drop_duplicates()\n",
    "\n",
    "# Định nghĩa thứ tự mới của các cột\n",
    "new_order = ['Tên hãng xe', 'Tên dòng xe', 'Năm sản xuất', 'Giá'] + [c for c in df.columns if c not in ['Tên hãng xe', 'Tên dòng xe','Năm sản xuất', 'Giá']]\n",
    "\n",
    "# Sắp xếp lại các cột theo thứ tự mới\n",
    "df = df.reindex(columns=new_order)\n",
    "\n",
    "# Xóa các cột 'URL' 'Mã xe', 'Tình trạng chung', 'Mô tả'\n",
    "df = df.drop(['URL','Tên xe', 'Mã xe', 'Tình trạng chung', 'Mô tả'], axis=1)\n",
    "\n",
    "# Chuyển đổi kiểu dữ liệu của cột 'Giá xe' thành float\n",
    "df['Giá'] = df['Giá'].astype(float)\n",
    "\n",
    "# Giảm giá trị của cột 'Giá xe' về đơn vị triệu đồng\n",
    "df['Giá'] = df['Giá'] / 1000000\n",
    "\n",
    "# Loại bỏ phần ' km' và chuyển đổi kiểu dữ liệu của cột 'Số Km đã đi'\n",
    "df['Số Km đã đi'] = df['Số Km đã đi'].str.replace(' Km', '').str.replace(',', '').astype(float)\n",
    "\n",
    "# Gán giá trị 0 cho cột 'Số Km đã đi' nếu cột 'Tình trạng' là 'Xe mới'\n",
    "df.loc[df['Tình trạng'] == 'Xe mới', 'Số Km đã đi'] = 0\n",
    "\n",
    "# Xóa những hàng sai \"Số km đã đi\"\n",
    "# Lọc ra những hàng cần xóa\n",
    "rows_to_drop = df[(df['Tình trạng'] == 'Xe đã dùng') & (df['Số Km đã đi'] == 0)].index\n",
    "\n",
    "# Xóa các hàng tương ứng\n",
    "df = df.drop(rows_to_drop)\n",
    "\n",
    "# Lưu dataframe vào file data.pkl\n",
    "df.to_pickle('data/clean/data.pkl')\n",
    "\n",
    "# In ra 5 hàng đầu tiên\n",
    "print(df.head().to_string())"
   ]
  },
  {
   "cell_type": "code",
   "execution_count": 11,
   "metadata": {},
   "outputs": [],
   "source": [
    "# from sklearn.preprocessing import LabelEncoder, OneHotEncoder\n",
    "\n",
    "# # Khởi tạo các đối tượng mã hóa\n",
    "# le = LabelEncoder()\n",
    "# ohe = OneHotEncoder()\n",
    "\n",
    "# # Danh sách các cột cần mã hóa\n",
    "# cols_to_encode = ['Tình trạng', 'Xuất xứ', 'Kiểu dáng', 'Hộp số', 'Động cơ', 'Màu ngoại thất', 'Màu nội thất', 'Số chỗ ngồi', 'Số cửa', 'Dẫn động']\n",
    "\n",
    "# # Vòng lặp qua từng cột cần mã hóa\n",
    "# for col in cols_to_encode:\n",
    "#     # Mã hóa nhãn (Label Encoding)\n",
    "#     df[col + '_encoded'] = le.fit_transform(df[col])\n",
    "    \n",
    "#     # Mã hóa one-hot (One-Hot Encoding)\n",
    "#     one_hot = ohe.fit_transform(df[[col]]).toarray()\n",
    "#     # Tạo DataFrame cho các cột one-hot\n",
    "#     one_hot_df = pd.DataFrame(one_hot, columns=[f\"{col}_{c}\" for c in le.classes_])\n",
    "#     # Nối DataFrame one-hot với DataFrame gốc\n",
    "#     df = pd.concat([df, one_hot_df], axis=1)\n",
    "\n",
    "# # In ra dataframe\n",
    "# print(df.to_string())\n"
   ]
  },
  {
   "cell_type": "code",
   "execution_count": 12,
   "metadata": {},
   "outputs": [
    {
     "name": "stdout",
     "output_type": "stream",
     "text": [
      "Số lượng cột của DataFrame:  16\n"
     ]
    }
   ],
   "source": [
    "# Lưu dataframe vào file Excel\n",
    "df.to_excel('data/clean/data.xlsx')\n",
    "\n",
    "# Lấy số lượng cột của DataFrame\n",
    "num_columns = df.shape[1]\n",
    "\n",
    "# In ra số lượng cột\n",
    "print(\"Số lượng cột của DataFrame: \", num_columns)"
   ]
  },
  {
   "cell_type": "code",
   "execution_count": 13,
   "metadata": {},
   "outputs": [
    {
     "name": "stdout",
     "output_type": "stream",
     "text": [
      "20480\n"
     ]
    }
   ],
   "source": [
    "print(len(df))"
   ]
  },
  {
   "cell_type": "code",
   "execution_count": 14,
   "metadata": {},
   "outputs": [
    {
     "name": "stdout",
     "output_type": "stream",
     "text": [
      "Kích thước tập huấn luyện: (16384, 15)\n",
      "Kích thước tập kiểm thử: (4096, 15)\n"
     ]
    }
   ],
   "source": [
    "from sklearn.model_selection import train_test_split\n",
    "\n",
    "# Giả sử df là DataFrame của bạn và 'Giá' là cột mục tiêu\n",
    "X = df.drop('Giá', axis=1)  # Tất cả các cột trừ cột 'Giá'\n",
    "y = df['Giá']  # Chỉ cột 'Giá'\n",
    "\n",
    "# Chia dữ liệu thành tập huấn luyện và tập kiểm thử\n",
    "X_train, X_test, y_train, y_test = train_test_split(X, y, test_size=0.2, random_state=42)\n",
    "\n",
    "# In ra kích thước của tập huấn luyện và tập kiểm thử\n",
    "print(\"Kích thước tập huấn luyện:\", X_train.shape)\n",
    "print(\"Kích thước tập kiểm thử:\", X_test.shape)\n"
   ]
  },
  {
   "cell_type": "code",
   "execution_count": 15,
   "metadata": {},
   "outputs": [
    {
     "name": "stdout",
     "output_type": "stream",
     "text": [
      "Tên hãng xe       0\n",
      "Tên dòng xe       0\n",
      "Năm sản xuất      0\n",
      "Giá               0\n",
      "Tỉnh              0\n",
      "Tình trạng        0\n",
      "Số Km đã đi       0\n",
      "Xuất xứ           0\n",
      "Kiểu dáng         0\n",
      "Hộp số            0\n",
      "Động cơ           0\n",
      "Màu ngoại thất    0\n",
      "Màu nội thất      0\n",
      "Số chỗ ngồi       0\n",
      "Số cửa            0\n",
      "Dẫn động          0\n",
      "dtype: int64\n"
     ]
    }
   ],
   "source": [
    "print(df.isnull().sum())"
   ]
  }
 ],
 "metadata": {
  "kernelspec": {
   "display_name": "ml-venv",
   "language": "python",
   "name": "python3"
  },
  "language_info": {
   "codemirror_mode": {
    "name": "ipython",
    "version": 3
   },
   "file_extension": ".py",
   "mimetype": "text/x-python",
   "name": "python",
   "nbconvert_exporter": "python",
   "pygments_lexer": "ipython3",
   "version": "3.10.13"
  }
 },
 "nbformat": 4,
 "nbformat_minor": 2
}
