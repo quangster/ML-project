{
 "cells": [
  {
   "cell_type": "code",
   "execution_count": 4,
   "metadata": {},
   "outputs": [],
   "source": [
    "import pandas as pd\n",
    "\n",
    "# Đọc dữ liệu từ các file CSV\n",
    "car_info_df = pd.read_csv('car_Info.csv')\n",
    "car_id_df = pd.read_csv('car_Id.csv')\n",
    "\n",
    "# Chuyển đổi cột 'Năm sản xuất' của car_info_df thành kiểu int\n",
    "car_info_df['Năm sản xuất'] = car_info_df['Năm sản xuất'].astype(int)\n",
    "\n",
    "# Ghép hai DataFrame lại với nhau dựa trên cột 'Link sản phẩm' và 'Năm sản xuất'\n",
    "merged_df = pd.merge(car_info_df, car_id_df[['Tên xe', 'Tên hãng xe', 'Năm sản xuất', 'Nơi bán', 'Giá', 'Link sản phẩm']], on=['Link sản phẩm', 'Năm sản xuất'], how='left')\n",
    "\n",
    "# Loại bỏ các ký tự không phải số trong cột 'Số Km đã đi'\n",
    "merged_df['Số Km đã đi'] = merged_df['Số Km đã đi'].str.replace(',', '').str.replace(' km', '')\n",
    "\n",
    "# Chuyển đổi cột 'Số Km đã đi' thành kiểu dữ liệu float\n",
    "merged_df['Số Km đã đi'] = pd.to_numeric(merged_df['Số Km đã đi'], errors='coerce')\n",
    "\n",
    "# Ghi dữ liệu đã được ghép và chuyển đổi vào file CSV mới\n",
    "merged_df.to_csv('car_Data.csv', index=False)\n"
   ]
  },
  {
   "cell_type": "code",
   "execution_count": 5,
   "metadata": {
    "metadata": {}
   },
   "outputs": [],
   "source": [
    "# Đọc dữ liệu từ file CSV hiện có\n",
    "df = pd.read_csv('car_Data.csv')\n",
    "\n",
    "# Ghi dữ liệu vào file Excel mới\n",
    "df.to_excel('new_info_car.xlsx', index=False)\n"
   ]
  }
 ],
 "metadata": {
  "kernelspec": {
   "display_name": "Python 3",
   "language": "python",
   "name": "python3"
  },
  "language_info": {
   "codemirror_mode": {
    "name": "ipython",
    "version": 3
   },
   "file_extension": ".py",
   "mimetype": "text/x-python",
   "name": "python",
   "nbconvert_exporter": "python",
   "pygments_lexer": "ipython3",
   "version": "3.11.9"
  }
 },
 "nbformat": 4,
 "nbformat_minor": 2
}
