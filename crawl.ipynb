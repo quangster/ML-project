{
 "cells": [
  {
   "cell_type": "code",
   "execution_count": 21,
   "metadata": {},
   "outputs": [],
   "source": [
    "from utils import BonBanhCrawler"
   ]
  },
  {
   "cell_type": "code",
   "execution_count": 22,
   "metadata": {},
   "outputs": [],
   "source": [
    "crawler = BonBanhCrawler(\n",
    "    origin_url=\"https://bonbanh.com/oto/bentley-cu-da-qua-su-dung\", \n",
    "    num_page=4\n",
    ")"
   ]
  },
  {
   "cell_type": "code",
   "execution_count": 23,
   "metadata": {},
   "outputs": [
    {
     "name": "stdout",
     "output_type": "stream",
     "text": [
      "Starting to crawl data from: https://bonbanh.com/oto/bentley-cu-da-qua-su-dung\n",
      "Found 20 items.\n",
      "Successfully extracted item 1: https://bonbanh.com/xe-bentley-flying_spur-v8-2015-5463362\n",
      "Successfully extracted item 2: https://bonbanh.com/xe-bentley-flying_spur-w12-2014-5259236\n",
      "Successfully extracted item 3: https://bonbanh.com/xe-bentley-mulsanne-speed-2014-5575681\n",
      "Successfully extracted item 4: https://bonbanh.com/xe-bentley-mulsanne-6.75-v8-2011-5515924\n",
      "Successfully extracted item 5: https://bonbanh.com/xe-bentley-continental-gtc-2007-5334302\n",
      "Successfully extracted item 6: https://bonbanh.com/xe-bentley-flying_spur-continental-2008-5408334\n",
      "Successfully extracted item 7: https://bonbanh.com/xe-bentley-flying_spur-w12-2014-5259261\n",
      "Successfully extracted item 8: https://bonbanh.com/xe-bentley-continental-gt-2007-5423452\n",
      "Successfully extracted item 9: https://bonbanh.com/xe-bentley-mulsanne-6.75-v8-2011-5532948\n",
      "Successfully extracted item 10: https://bonbanh.com/xe-bentley-flying_spur-speed-2009-5262860\n",
      "Successfully extracted item 11: https://bonbanh.com/xe-bentley-mulsanne-speed-2013-5573142\n",
      "Successfully extracted item 12: https://bonbanh.com/xe-bentley-flying_spur-v8-s-2017-5492216\n",
      "Successfully extracted item 13: https://bonbanh.com/xe-bentley-flying_spur-speed-2009-5474272\n",
      "Successfully extracted item 14: https://bonbanh.com/xe-bentley-bentayga-4.0-v8-2020-5545021\n",
      "Successfully extracted item 15: https://bonbanh.com/xe-bentley-bentayga-4.0-v8-2020-5545030\n",
      "Successfully extracted item 16: https://bonbanh.com/xe-bentley-continental-gt-2008-5318567\n",
      "Successfully extracted item 17: https://bonbanh.com/xe-bentley-mulsanne-speed-2013-5148721\n",
      "Successfully extracted item 18: https://bonbanh.com/xe-bentley-mulsanne-6.75-v8-2011-5342731\n",
      "Successfully extracted item 19: https://bonbanh.com/xe-bentley-mulsanne-speed-2014-5565279\n",
      "Successfully extracted item 20: https://bonbanh.com/xe-bentley-flying_spur-speed-2008-5515065\n",
      "Starting to crawl data from: https://bonbanh.com/oto/bentley-cu-da-qua-su-dung/page,2\n",
      "Found 20 items.\n",
      "Successfully extracted item 1: https://bonbanh.com/xe-bentley-flying_spur-w12-s-2016-5496527\n",
      "Successfully extracted item 2: https://bonbanh.com/xe-bentley-bentayga-4.0-v8-2020-5527690\n",
      "Successfully extracted item 3: https://bonbanh.com/xe-bentley-flying_spur-v8-2020-5514541\n",
      "Successfully extracted item 4: https://bonbanh.com/xe-bentley-flying_spur-w12-s-2016-5287964\n",
      "Successfully extracted item 5: https://bonbanh.com/xe-bentley-continental-gt-2006-5351440\n",
      "Successfully extracted item 6: https://bonbanh.com/xe-bentley-flying_spur-6.0-v8-2007-5543388\n",
      "Successfully extracted item 7: https://bonbanh.com/xe-bentley-continental-gtc-2007-5486948\n",
      "Successfully extracted item 8: https://bonbanh.com/xe-bentley-mulsanne-speed-2015-4826797\n",
      "Successfully extracted item 9: https://bonbanh.com/xe-bentley-bentayga-4.0-v8-2020-5545045\n",
      "Successfully extracted item 10: https://bonbanh.com/xe-bentley-mulsanne-speed-2015-5464043\n",
      "Successfully extracted item 11: https://bonbanh.com/xe-bentley-flying_spur-v8-s-2017-5575241\n",
      "Successfully extracted item 12: https://bonbanh.com/xe-bentley-bentayga-w12-2017-4661113\n",
      "Successfully extracted item 13: https://bonbanh.com/xe-bentley-mulsanne-speed-2014-5575809\n",
      "Successfully extracted item 14: https://bonbanh.com/xe-bentley-flying_spur-speed-2009-5575307\n",
      "Successfully extracted item 15: https://bonbanh.com/xe-bentley-bentayga-first-edition-4.0-v8-2021-5477535\n",
      "Successfully extracted item 16: https://bonbanh.com/xe-bentley-flying_spur-v8-2021-5076454\n",
      "Successfully extracted item 17: https://bonbanh.com/xe-bentley-mulsanne-speed-2013-5027500\n",
      "Successfully extracted item 18: https://bonbanh.com/xe-bentley-mulsanne-speed-2013-5024265\n",
      "Successfully extracted item 19: https://bonbanh.com/xe-bentley-bentayga-4.0-v8-2020-5545056\n",
      "Successfully extracted item 20: https://bonbanh.com/xe-bentley-flying_spur-6.0-v8-2007-4773320\n",
      "Starting to crawl data from: https://bonbanh.com/oto/bentley-cu-da-qua-su-dung/page,3\n",
      "Found 20 items.\n",
      "Successfully extracted item 1: https://bonbanh.com/xe-bentley-flying_spur-v8-2014-5460714\n",
      "Successfully extracted item 2: https://bonbanh.com/xe-bentley-continental-gt-2008-5328971\n",
      "Successfully extracted item 3: https://bonbanh.com/xe-bentley-continental-gt-2008-5422949\n",
      "Successfully extracted item 4: https://bonbanh.com/xe-bentley-bentayga-first-edition-4.0-v8-2021-5477467\n",
      "Successfully extracted item 5: https://bonbanh.com/xe-bentley-continental-gt-2004-5364271\n",
      "Successfully extracted item 6: https://bonbanh.com/xe-bentley-bentayga-first-edition-4.0-v8-2021-5550368\n",
      "Successfully extracted item 7: https://bonbanh.com/xe-bentley-flying_spur-v8-2021-5249425\n",
      "Successfully extracted item 8: https://bonbanh.com/xe-bentley-mulsanne-6.75-v8-2010-5170502\n",
      "Successfully extracted item 9: https://bonbanh.com/xe-bentley-flying_spur-speed-2008-5533062\n",
      "Successfully extracted item 10: https://bonbanh.com/xe-bentley-mulsanne-speed-2013-4859631\n",
      "Successfully extracted item 11: https://bonbanh.com/xe-bentley-bentayga-first-edition-4.0-v8-2021-5477882\n",
      "Successfully extracted item 12: https://bonbanh.com/xe-bentley-mulsanne-6.75-v8-2011-4571851\n",
      "Successfully extracted item 13: https://bonbanh.com/xe-bentley-flying_spur-v8-2020-5507498\n",
      "Successfully extracted item 14: https://bonbanh.com/xe-bentley-flying_spur-v8-2015-4936601\n",
      "Successfully extracted item 15: https://bonbanh.com/xe-bentley-flying_spur-first-edition-v8-2021-5514457\n",
      "Successfully extracted item 16: https://bonbanh.com/xe-bentley-mulsanne-6.8-v8-2019-5493104\n",
      "Successfully extracted item 17: https://bonbanh.com/xe-bentley-flying_spur-v8-2021-5081766\n",
      "Successfully extracted item 18: https://bonbanh.com/xe-bentley-mulsanne-speed-2013-5019886\n",
      "Successfully extracted item 19: https://bonbanh.com/xe-bentley-mulsanne-limited-edition-2013-5186896\n",
      "Successfully extracted item 20: https://bonbanh.com/xe-bentley-flying_spur-w12-2013-5019937\n",
      "Starting to crawl data from: https://bonbanh.com/oto/bentley-cu-da-qua-su-dung/page,4\n",
      "Found 6 items.\n",
      "Successfully extracted item 1: https://bonbanh.com/xe-bentley-mulsanne-speed-2013-5181315\n",
      "Successfully extracted item 2: https://bonbanh.com/xe-bentley-flying_spur-speed-2008-5472753\n",
      "Successfully extracted item 3: https://bonbanh.com/xe-bentley-mulsanne-speed-2016-5171374\n",
      "Successfully extracted item 4: https://bonbanh.com/xe-bentley-flying_spur-v8-2020-5472202\n",
      "Successfully extracted item 5: https://bonbanh.com/xe-bentley-flying_spur-v8-2015-5453378\n",
      "Successfully extracted item 6: https://bonbanh.com/xe-bentley-flying_spur-speed-2009-5141858\n"
     ]
    }
   ],
   "source": [
    "data = crawler.crawl()"
   ]
  },
  {
   "cell_type": "code",
   "execution_count": 24,
   "metadata": {},
   "outputs": [
    {
     "data": {
      "text/plain": [
       "66"
      ]
     },
     "execution_count": 24,
     "metadata": {},
     "output_type": "execute_result"
    }
   ],
   "source": [
    "len(data)"
   ]
  },
  {
   "cell_type": "code",
   "execution_count": 25,
   "metadata": {},
   "outputs": [
    {
     "name": "stdout",
     "output_type": "stream",
     "text": [
      "Successfully save data: data/bonbanh.bentley.pkl\n"
     ]
    }
   ],
   "source": [
    "from utils import save_data\n",
    "save_data(data, \"bonbanh.bentley\")"
   ]
  }
 ],
 "metadata": {
  "kernelspec": {
   "display_name": "ml-venv",
   "language": "python",
   "name": "python3"
  },
  "language_info": {
   "codemirror_mode": {
    "name": "ipython",
    "version": 3
   },
   "file_extension": ".py",
   "mimetype": "text/x-python",
   "name": "python",
   "nbconvert_exporter": "python",
   "pygments_lexer": "ipython3",
   "version": "3.12.3"
  }
 },
 "nbformat": 4,
 "nbformat_minor": 2
}
