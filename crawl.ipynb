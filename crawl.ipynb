{
 "cells": [
  {
   "cell_type": "code",
   "execution_count": 36,
   "metadata": {},
   "outputs": [],
   "source": [
    "from utils import BonBanhCrawler, save_data\n",
    "import os"
   ]
  },
  {
   "cell_type": "code",
   "execution_count": 37,
   "metadata": {},
   "outputs": [],
   "source": [
    "def crawl(model: str, num_pages: int = 1):\n",
    "    crawler = BonBanhCrawler(\n",
    "        origin_url=f\"https://bonbanh.com/oto/{model}\",\n",
    "        num_page=num_pages\n",
    "    )\n",
    "    data = crawler.crawl()\n",
    "    print(f\"Total: {len(data)} items collected\")\n",
    "    save_data(data, os.path.join('data', 'raw', f'bonbanh.{model}.pkl'))"
   ]
  },
  {
   "cell_type": "code",
   "execution_count": 38,
   "metadata": {},
   "outputs": [],
   "source": [
    "# crawl(model='audi', num_pages=16)\n",
    "# crawl(model='bentley', num_pages=4)\n",
    "# crawl(model='bmw', num_pages=35)\n",
    "# crawl(model='chevrolet', num_pages=28)\n",
    "# crawl(model='daewoo', num_pages=13)\n",
    "# crawl(model='ford', num_pages=158)\n",
    "# crawl(model='honda', num_pages=68)\n",
    "# crawl(model='hyundai', num_pages=174)\n",
    "# crawl(model='isuzu', num_pages=6)\n",
    "# crawl(model='jeep', num_pages=5)\n",
    "# crawl(model='kia', num_pages=145)\n",
    "# crawl(model='landrover', num_pages=21)\n",
    "# crawl(model='lexus', num_pages=59)\n",
    "# crawl(model='mazda', num_pages=108)\n",
    "# crawl(model='mercedes_benz', num_pages=167)\n",
    "# crawl(model='mg', num_pages=19)\n",
    "# crawl(model='mini', num_pages=6)\n",
    "# crawl(model='mitsubishi', num_pages=74)\n",
    "# crawl(model='nissan', num_pages=15)\n",
    "# crawl(model='peugeot', num_pages=14)\n",
    "# crawl(model='porsche', num_pages=22)\n",
    "# crawl(model='subaru', num_pages=11)\n",
    "# crawl(model='suzuki', num_pages=18)\n",
    "# crawl(model='toyota', num_pages=293)\n",
    "# crawl(model='vinfast', num_pages=49)\n",
    "# crawl(model='volkswagen', num_pages=19)\n",
    "# crawl(model='volvo', num_pages=8)"
   ]
  },
  {
   "cell_type": "code",
   "execution_count": 39,
   "metadata": {},
   "outputs": [
    {
     "name": "stdout",
     "output_type": "stream",
     "text": [
      "bonbanh.mercedes_benz.pkl: 3329\n",
      "bonbanh.mini.pkl: 113\n",
      "bonbanh.porsche.pkl: 429\n",
      "bonbanh.isuzu.pkl: 120\n",
      "bonbanh.kia.pkl: 2900\n",
      "bonbanh.chevrolet.pkl: 554\n",
      "bonbanh.honda.pkl: 1352\n",
      "bonbanh.subaru.pkl: 212\n",
      "bonbanh.vinfast.pkl: 969\n",
      "bonbanh.volkswagen.pkl: 361\n",
      "bonbanh.suzuki.pkl: 343\n",
      "bonbanh.landrover.pkl: 411\n",
      "bonbanh.peugeot.pkl: 275\n",
      "bonbanh.nissan.pkl: 300\n",
      "bonbanh.toyota.pkl: 5860\n",
      "bonbanh.bmw.pkl: 682\n",
      "bonbanh.lexus.pkl: 1177\n",
      "bonbanh.daewoo.pkl: 248\n",
      "bonbanh.mg.pkl: 376\n",
      "bonbanh.jeep.pkl: 89\n",
      "bonbanh.audi.pkl: 315\n",
      "bonbanh.mazda.pkl: 2147\n",
      "bonbanh.volvo.pkl: 150\n",
      "bonbanh.hyundai.pkl: 3475\n",
      "bonbanh.mitsubishi.pkl: 1474\n",
      "bonbanh.bentley.pkl: 65\n",
      "bonbanh.ford.pkl: 3155\n"
     ]
    }
   ],
   "source": [
    "import os\n",
    "import pickle\n",
    "folder_path = 'data/raw'\n",
    "\n",
    "for filename in os.listdir(folder_path):\n",
    "    # Kiểm tra nếu file có phần mở rộng là .pkl\n",
    "    if filename.endswith('.pkl'):\n",
    "        file_path = os.path.join(folder_path, filename)\n",
    "        \n",
    "        # Mở và đọc file .pkl\n",
    "        with open(file_path, 'rb') as f:\n",
    "            data = pickle.load(f)\n",
    "        \n",
    "        # In ra độ dài của dữ liệu\n",
    "        print(f\"{filename}: {len(data)}\")\n"
   ]
  }
 ],
 "metadata": {
  "kernelspec": {
   "display_name": "ml-venv",
   "language": "python",
   "name": "python3"
  },
  "language_info": {
   "codemirror_mode": {
    "name": "ipython",
    "version": 3
   },
   "file_extension": ".py",
   "mimetype": "text/x-python",
   "name": "python",
   "nbconvert_exporter": "python",
   "pygments_lexer": "ipython3",
   "version": "3.12.3"
  }
 },
 "nbformat": 4,
 "nbformat_minor": 2
}
