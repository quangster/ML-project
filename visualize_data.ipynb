{
 "cells": [
  {
   "cell_type": "markdown",
   "metadata": {},
   "source": [
    "Package install and import"
   ]
  },
  {
   "cell_type": "code",
   "execution_count": null,
   "metadata": {},
   "outputs": [],
   "source": [
    "import numpy as np\n",
    "import pandas as pd\n",
    "import matplotlib.pyplot as plt\n",
    "import seaborn as sns\n",
    "import scipy.stats as stats\n",
    "import statsmodels.api as sm\n",
    "from sklearn.preprocessing import StandardScaler\n",
    "from sklearn.decomposition import PCA\n",
    "from scipy.stats import pearsonr\n",
    "from statsmodels.formula.api import ols\n",
    "from sklearn.model_selection import train_test_split\n",
    "import os\n",
    "import pickle\n",
    "import openpyxl"
   ]
  },
  {
   "cell_type": "markdown",
   "metadata": {},
   "source": [
    "Loading the dataset"
   ]
  },
  {
   "cell_type": "code",
   "execution_count": null,
   "metadata": {},
   "outputs": [],
   "source": [
    "# Đọc file data.pkl\n",
    "df = pd.read_pickle('data/clean/data.pkl')\n",
    "df.head()"
   ]
  },
  {
   "cell_type": "markdown",
   "metadata": {},
   "source": [
    "Kiểm tra các cột số"
   ]
  },
  {
   "cell_type": "code",
   "execution_count": null,
   "metadata": {},
   "outputs": [],
   "source": [
    "df.select_dtypes(include=\"number\").columns"
   ]
  },
  {
   "cell_type": "markdown",
   "metadata": {},
   "source": [
    "Kiểm tra các cột phân loại"
   ]
  },
  {
   "cell_type": "code",
   "execution_count": null,
   "metadata": {},
   "outputs": [],
   "source": [
    "df.select_dtypes(include=\"object\").columns"
   ]
  },
  {
   "cell_type": "markdown",
   "metadata": {},
   "source": [
    "## Exploratory analysis and Visualization"
   ]
  },
  {
   "cell_type": "markdown",
   "metadata": {},
   "source": [
    "### Visualization"
   ]
  },
  {
   "cell_type": "code",
   "execution_count": null,
   "metadata": {},
   "outputs": [],
   "source": [
    "df = pd.read_pickle('data/clean/data.pkl')"
   ]
  },
  {
   "cell_type": "code",
   "execution_count": null,
   "metadata": {},
   "outputs": [],
   "source": [
    "df.head()\n"
   ]
  },
  {
   "cell_type": "code",
   "execution_count": null,
   "metadata": {},
   "outputs": [],
   "source": [
    "df.shape"
   ]
  },
  {
   "cell_type": "markdown",
   "metadata": {},
   "source": [
    "Biểu đồ countplot và pie tần xuất các giá trị ở các cột"
   ]
  },
  {
   "cell_type": "code",
   "execution_count": null,
   "metadata": {},
   "outputs": [],
   "source": [
    "for column in ['Tên hãng xe', 'Năm sản xuất', 'Tình trạng', 'Xuất xứ', 'Kiểu dáng','Hộp số','Màu ngoại thất', 'Màu nội thất', 'Số cửa', 'Số chỗ ngồi', 'Dẫn động', 'Loại động cơ', 'Dung tích']:\n",
    "        # Tạo figure và axes cho countplot và pie chart\n",
    "        fig, axs = plt.subplots(1, 2, figsize=(25, 5))\n",
    "\n",
    "        # Vẽ countplot\n",
    "        sns.countplot(x=column, data=df, ax=axs[0])\n",
    "        axs[0].set_title(f'Countplot of {column}')\n",
    "\n",
    "        # Đếm số lượng giá trị duy nhất trong cột và vẽ pie chart\n",
    "        value_counts = df[column].value_counts()\n",
    "        axs[1].pie(value_counts, labels=value_counts.index, autopct='%1.1f%%', startangle=180)\n",
    "        axs[1].set_title(f'Pie chart of {column}')\n",
    "        axs[1].axis('equal')  # Đảm bảo biểu đồ pie là hình tròn\n",
    "\n",
    "        # Hiển thị biểu đồ\n",
    "        plt.tight_layout()\n",
    "        plt.show()"
   ]
  },
  {
   "cell_type": "markdown",
   "metadata": {},
   "source": [
    "Bảng tần xuất các giá trị ở các cột còn lại"
   ]
  },
  {
   "cell_type": "code",
   "execution_count": null,
   "metadata": {},
   "outputs": [],
   "source": [
    "column = [\"Tỉnh\"]\n",
    "element_count_df = df[column].value_counts().to_frame().reset_index()\n",
    "element_count_df.columns = ['Tỉnh', 'Count']\n",
    "print(f\"Column '{column}':\")\n",
    "print(element_count_df)\n",
    "print()"
   ]
  },
  {
   "cell_type": "markdown",
   "metadata": {},
   "source": [
    "## Checking distribution"
   ]
  },
  {
   "cell_type": "markdown",
   "metadata": {},
   "source": [
    "#### Giá"
   ]
  },
  {
   "cell_type": "code",
   "execution_count": null,
   "metadata": {},
   "outputs": [],
   "source": [
    "fig,axes=plt.subplots(1,2,figsize=(12,5))\n",
    "\n",
    "# Distribution plot for the \"Giá\" column\n",
    "sns.histplot(df['Giá'], kde=True, bins=10, ax=axes[0])\n",
    "axes[0].set_title(\"Distribution of price\")\n",
    "axes[0].set_xlabel(\"Giá\")\n",
    "axes[0].set_ylabel(\"Count\")\n",
    "\n",
    "# Boxplot plot for the \"Giá\" column\n",
    "sns.boxplot(data=df, y='Giá',ax=axes[1])\n",
    "axes[1].set_title(\"Boxplot of price\")\n",
    "axes[1].set_xlabel(\"price\")\n",
    "\n",
    "# Adjust layout\n",
    "plt.tight_layout()\n",
    "\n",
    "# Display the subplots\n",
    "plt.show()"
   ]
  },
  {
   "cell_type": "markdown",
   "metadata": {},
   "source": [
    "* Phân bố giá có độ lệch dương\n",
    "* Có một số ngoại lệ được quan sát thấy "
   ]
  },
  {
   "cell_type": "code",
   "execution_count": null,
   "metadata": {},
   "outputs": [],
   "source": [
    "# Giảm độ lớn của giá\n",
    "df['Giá']=np.log(df['Giá'])"
   ]
  },
  {
   "cell_type": "code",
   "execution_count": null,
   "metadata": {},
   "outputs": [],
   "source": [
    "fig,axes=plt.subplots(1,2,figsize=(12,6))\n",
    "\n",
    "# Distribution plot for the \"Giá\" column\n",
    "sns.histplot(df['Giá'], kde=True, bins=10, ax=axes[0])\n",
    "axes[0].set_title(\"Distribution of price\")\n",
    "axes[0].set_xlabel(\"Giá\")\n",
    "axes[0].set_ylabel(\"Count\")\n",
    "\n",
    "# Boxplot plot for the \"price\" column\n",
    "sns.boxplot(data=df, y='Giá',ax=axes[1])\n",
    "axes[1].set_title(\"Boxplot of price\")\n",
    "axes[1].set_xlabel(\"Giá\")\n",
    "\n",
    "# Adjust layout\n",
    "plt.tight_layout()\n",
    "\n",
    "# Display the subplots\n",
    "plt.show()"
   ]
  },
  {
   "cell_type": "code",
   "execution_count": null,
   "metadata": {},
   "outputs": [],
   "source": [
    "# Chọn các cột có kiểu dữ liệu số\n",
    "numeric_df = df.select_dtypes(include=['number'])\n",
    "\n",
    "# Tính toán ma trận tương quan cho các cột số\n",
    "numeric_df.corr().loc['Giá']"
   ]
  },
  {
   "cell_type": "code",
   "execution_count": null,
   "metadata": {},
   "outputs": [],
   "source": [
    "# Tương quan\n",
    "numeric_df.corr()"
   ]
  },
  {
   "cell_type": "markdown",
   "metadata": {},
   "source": [
    "Biểu đồ heatmap giữa các cột số và cột giá\n"
   ]
  },
  {
   "cell_type": "code",
   "execution_count": null,
   "metadata": {},
   "outputs": [],
   "source": [
    "plt.figure(figsize=(30, 20))\n",
    "\n",
    "# Create the heatmap of the correlation matrix\n",
    "sns.heatmap(numeric_df.corr(), annot=True, fmt='.2f')\n",
    "\n",
    "# Display the plot\n",
    "plt.show()"
   ]
  },
  {
   "cell_type": "markdown",
   "metadata": {},
   "source": [
    "## Phân tích uni_variate cho các cột số"
   ]
  },
  {
   "cell_type": "markdown",
   "metadata": {},
   "source": [
    "### Độ lệch"
   ]
  },
  {
   "cell_type": "code",
   "execution_count": null,
   "metadata": {},
   "outputs": [],
   "source": [
    "numeric_df.skew()"
   ]
  },
  {
   "cell_type": "markdown",
   "metadata": {},
   "source": [
    "* Năm sản xuất (-1.601737): Độ lệch âm mạnh, phân phối chủ yếu tập trung về phía bên trái trục x. Có thể hầu như các xe trong dữ liệu được sản xuất gần đây\n",
    "* Giá (150.418760): Độ lệch dương mạnh, cho thấy phân phối chủ yếu tập trung phía bên phải trục x. Có thể hầu hết các xe có giá quá cao\n",
    "* Số chỗ ngồi (6.348299): Độ lệch dương, cho thấy phân phối có đuôi dài bên phải. Có thể hầu hết các xe trong dữ liệu có số chỗ ngồi lớn\n",
    "* Số cửa (-2.088292): Độ lệch âm, cho thấy phân phối chủ yếu tập trung về bên trái của trục x. Có thể hầy hết các xe có số cửa ít\n",
    "* Số Km đã đi (151.900523): Độ lệch dương mạnh, cho thấy phân phối chủ yếu bên phải trục x. Có thể hầu hết các xe trong dữ liệu có số Km đã đi lớn"
   ]
  },
  {
   "cell_type": "markdown",
   "metadata": {},
   "source": [
    "### Độ nhọn"
   ]
  },
  {
   "cell_type": "code",
   "execution_count": null,
   "metadata": {},
   "outputs": [],
   "source": [
    "numeric_df.kurt()"
   ]
  },
  {
   "cell_type": "markdown",
   "metadata": {},
   "source": [
    "* Năm sản xuất (3.376426): Độ nhọn dương cho thấy phân phối có đỉnh cao hơn và đuôi dài hơn phân phối chuẩn. Cho thấy một số xe được sản xuất ở các năm cụ thể có tần xuất cao hơn những năm còn lại.\n",
    "* Giá (23055.802151): Độ nhọn dương mạnh, phân phối có đỉnh cao hơn và đuôi dài hơn phân phối chuẩn. Cho thấy một số xe có giá trị rất cao so với phần còn lại của dữ liệu.\n",
    "* Số chỗ ngồi (99.984573): Độ nhọn dương mạnh, phân phối có đỉnh cao hơn và đuôi dài hơn phân phối chuẩn. Cho thấy một số xe có số cửa rất lớn so với phần còn lại.\n",
    "* Số Km đã đi (23334.466853): Độ nhọn dương mạnh, phân phối có đỉnh cao hơn và đuôi dài hơn phân phối chuẩn. Cho thấy một số xe đã đi số Km rất lớn so với phần còn lại"
   ]
  },
  {
   "cell_type": "code",
   "execution_count": null,
   "metadata": {},
   "outputs": [],
   "source": [
    "# Select numerical columns\n",
    "numeric_columns = df.select_dtypes(include=[np.number]).columns\n",
    "\n",
    "# Create subplots for the histograms\n",
    "fig, axes = plt.subplots(nrows=len(numeric_columns), ncols=2, figsize=(12, 50))\n",
    "fig.subplots_adjust(hspace=0.5)\n",
    "\n",
    "# Generate histograms and box plots\n",
    "for i, column in enumerate(numeric_columns):\n",
    "    # Histogram\n",
    "    sns.histplot(data=df, x=column, bins=20, color='skyblue',kde=True, ax=axes[i,0])\n",
    "    axes[i, 0].set_xlabel(column)\n",
    "    axes[i, 0].set_ylabel('Frequency')\n",
    "    axes[i, 0].set_title('Histogram')\n",
    "\n",
    "    # Box plot\n",
    "    axes[i, 1].boxplot(df[column], vert=False)\n",
    "    axes[i, 1].set_xlabel(column)\n",
    "    axes[i, 1].set_title('Box Plot')\n",
    "\n",
    "# Show the plots\n",
    "plt.tight_layout()\n",
    "plt.show()"
   ]
  },
  {
   "cell_type": "markdown",
   "metadata": {},
   "source": [
    "## Phân tích uni_variate cho các cột phân loại"
   ]
  },
  {
   "cell_type": "code",
   "execution_count": null,
   "metadata": {},
   "outputs": [],
   "source": [
    "cat=[]\n",
    "for column in df.columns:\n",
    "    if df[column].dtype== object:\n",
    "        cat.append(column)\n",
    "# Assuming 'cat' is a list of categorical column names\n",
    "fig, axes = plt.subplots(nrows=len(cat), ncols=2, figsize=(12, 50))\n",
    "\n",
    "for i, column in enumerate(cat):\n",
    "    \n",
    "    # Plot the count plot (histogram) in the first column of the current row\n",
    "        sns.countplot(x=column, data=df, ax=axes[i, 0])\n",
    "        axes[i, 0].set_xlabel(column)\n",
    "        axes[i, 0].set_ylabel('Count')\n",
    "        axes[i, 0].set_title('Countplot of ' + column)\n",
    "\n",
    "    # Plot the pie chart in the second column of the current row using Pandas plot\n",
    "        df[column].value_counts().plot(kind='pie', autopct='%.2f%%', ax=axes[i, 1])\n",
    "        axes[i, 1].set_title('Distribution of ' + column)\n",
    "        axes[i, 1].set_ylabel('')\n",
    "\n",
    "# Adjust layout to prevent overlapping\n",
    "plt.tight_layout()\n",
    "\n",
    "# Display the subplots\n",
    "plt.show()"
   ]
  },
  {
   "cell_type": "markdown",
   "metadata": {},
   "source": [
    "### Phân tích bi-variate cho giá và cột số"
   ]
  },
  {
   "cell_type": "code",
   "execution_count": null,
   "metadata": {},
   "outputs": [],
   "source": [
    "# Select numerical columns\n",
    "numerical_columns = df.select_dtypes(include=[np.number]).columns\n",
    "\n",
    "for column in numerical_columns:\n",
    "    # Create subplots\n",
    "    fig, axes = plt.subplots(1, 2, figsize=(12, 6))\n",
    "\n",
    "    # Scatter plot using seaborn\n",
    "    sns.scatterplot(x=df[column], y=df['Giá'], ax=axes[0])\n",
    "    axes[0].set_xlabel(column)\n",
    "    axes[0].set_ylabel('Giá')\n",
    "    axes[0].set_title('Giá vs ' + column)\n",
    "    axes[0].set_xticklabels(axes[0].get_xticklabels(), rotation=90, ha='right')\n",
    "\n",
    "    # Heatmap using seaborn\n",
    "    sns.heatmap(df[['Giá', column]].corr(), annot=True, fmt=\".2f\", cmap='coolwarm', ax=axes[1])\n",
    "\n",
    "    # Set plot title\n",
    "    plt.title(\"Heatmap - Giá vs \" + column)\n",
    "\n",
    "    # Display the plot\n",
    "    plt.show()\n",
    "\n"
   ]
  },
  {
   "cell_type": "code",
   "execution_count": null,
   "metadata": {},
   "outputs": [],
   "source": [
    "# Select numerical columns\n",
    "numerical_columns = df.select_dtypes(include=[np.number]).columns\n",
    "for column in numerical_columns:\n",
    "    correlation, p_value = pearsonr(df['Giá'], df[column])\n",
    "    print(\"Correlation with 'Giá' for column '{}' : {:.4f}\".format(column, correlation))\n",
    "    print(\"p-value for column '{}' : {:.4f}\".format(column, p_value))\n",
    "    print(\"------------------------------------------------------\")"
   ]
  },
  {
   "cell_type": "markdown",
   "metadata": {},
   "source": [
    "### Phân tích bi_variate cho cột giá và các cột phân loại"
   ]
  },
  {
   "cell_type": "code",
   "execution_count": null,
   "metadata": {},
   "outputs": [],
   "source": [
    "categorical_column=[]\n",
    "for column in df.columns:\n",
    "    if df[column].dtype== object:\n",
    "        categorical_column.append(column)\n",
    "        \n",
    "# Loop through each categorical column\n",
    "for column in categorical_column:\n",
    "    plt.figure(figsize=(20, 15))\n",
    "    \n",
    "    # Create a box plot\n",
    "    sns.boxplot(data=df, x=column, y='Giá')\n",
    "    \n",
    "    # Set labels and title\n",
    "    plt.xlabel(column)\n",
    "    plt.ylabel('Giá')\n",
    "    plt.title(f'Box Plot: {column} vs. Giá')\n",
    "    \n",
    "    # Rotate x-axis labels for better visibility\n",
    "    plt.xticks(rotation=90)\n",
    "    \n",
    "    # Display the plot\n",
    "    plt.show()"
   ]
  },
  {
   "cell_type": "code",
   "execution_count": null,
   "metadata": {},
   "outputs": [],
   "source": [
    "from scipy.stats import f_oneway\n",
    "import pandas as pd\n",
    "\n",
    "# Assuming you have a DataFrame named 'df' containing the data\n",
    "# and 'categorical_column' is a list of categorical columns\n",
    "categorical_column=[]\n",
    "for column in df.columns:\n",
    "    if df[column].dtype== object:\n",
    "        categorical_column.append(column)\n",
    "\n",
    "for column in categorical_column:\n",
    "    # Drop any rows with missing values\n",
    "    data = df[['Giá', column]].copy()\n",
    "    data.dropna(inplace=True)\n",
    "\n",
    "    # Perform ANOVA\n",
    "    groups = [data[data[column] == value]['Giá'] for value in data[column].unique()]\n",
    "    f_statistic, p_value = f_oneway(*groups)\n",
    "\n",
    "    # Create DataFrame to display results\n",
    "    results = pd.DataFrame({'Group': data[column].unique(), 'F-Statistic': f_statistic, 'p-value': p_value})\n",
    "    \n",
    "    # Print the ANOVA table\n",
    "    print(f\"ANOVA Test for {column}\")\n",
    "    print(results.head())\n",
    "    print(\"---------------------------\")\n"
   ]
  },
  {
   "cell_type": "code",
   "execution_count": null,
   "metadata": {},
   "outputs": [],
   "source": [
    "for i in range(len(categorical_column)):\n",
    "    for j in range(i + 1, len(categorical_column)):\n",
    "        # Tabulation\n",
    "        tab = pd.crosstab(df[categorical_column[i]], df[categorical_column[j]])\n",
    "\n",
    "        # Create subplots\n",
    "        fig, axes = plt.subplots(nrows=1, ncols=2, figsize=(20, 5))\n",
    "\n",
    "        # Stacked Bar Plot\n",
    "        tab.plot(kind='bar', stacked=True, ax=axes[0])\n",
    "        axes[0].set_xlabel(categorical_column[i])\n",
    "        axes[0].set_ylabel('Count')\n",
    "        axes[0].set_title(f'Stacked Bar Plot of {categorical_column[i]} by {categorical_column[j]}')\n",
    "\n",
    "        # Grouped Bar Plot\n",
    "        sns.countplot(data=df, x=categorical_column[i], hue=categorical_column[j], ax=axes[1])\n",
    "        axes[1].set_xlabel(categorical_column[i])\n",
    "        axes[1].set_ylabel('Count')\n",
    "        axes[1].set_title(f'Counts of {categorical_column[i]} by {categorical_column[j]}')\n",
    "\n",
    "        plt.tight_layout()\n",
    "        plt.show()"
   ]
  },
  {
   "cell_type": "markdown",
   "metadata": {},
   "source": [
    "#### Kiểm tra thống kê"
   ]
  },
  {
   "cell_type": "code",
   "execution_count": null,
   "metadata": {},
   "outputs": [],
   "source": [
    "cat_columns=[]\n",
    "for column in df.columns:\n",
    "    if df[column].dtype== object:\n",
    "        cat_columns.append(column)\n",
    "        \n",
    "# Create an empty dictionary to store chi-square test results\n",
    "chi_square_results = {}\n",
    "\n",
    "# Tabulation and Chi-Square Test\n",
    "for i in range(len(cat_columns)):\n",
    "    for j in range(i + 1, len(cat_columns)):\n",
    "        # Tabulation\n",
    "        tab = pd.crosstab(df[cat_columns[i]], df[cat_columns[j]])\n",
    "        \n",
    "        # Perform chi-square test of independence\n",
    "        chi2, p_value, dof, expected = stats.chi2_contingency(tab)\n",
    "        \n",
    "        # Store the results in the dictionary\n",
    "        chi_square_results[(cat_columns[i], cat_columns[j])] = {'Chi-Square': chi2, 'P-Value': p_value}\n",
    "\n",
    "# Print Chi-Square Test results\n",
    "for pair, result in chi_square_results.items():\n",
    "    print(f\"Chi-Square Test of Independence for {pair}:\")\n",
    "    print(f\"Chi-Square Statistic: {result['Chi-Square']}\")\n",
    "    print(f\"P-Value: {result['P-Value']}\")\n",
    "    print(\"--------------------------------------------------\")"
   ]
  },
  {
   "cell_type": "markdown",
   "metadata": {},
   "source": [
    " Chia tập dữ liệu huấn luyện và kiểm thử"
   ]
  },
  {
   "cell_type": "code",
   "execution_count": null,
   "metadata": {},
   "outputs": [],
   "source": [
    "df = pd.read_pickle(\"data/clean/data.pkl\")"
   ]
  },
  {
   "cell_type": "code",
   "execution_count": null,
   "metadata": {},
   "outputs": [],
   "source": [
    "# Chia DataFrame thành tập dữ liệu huấn luyện và tập dữ liệu kiểm tra\n",
    "train_df, test_df = train_test_split(df, test_size=0.2, random_state=42)\n",
    "\n",
    "# Lưu DataFrame huấn luyện vào tệp \n",
    "train_df.to_csv(\"data/train/data_train.csv\")\n",
    "\n",
    "# Lưu DataFrame kiểm tra vào tệp \n",
    "test_df.to_csv(\"data/train/data_test.csv\")\n"
   ]
  },
  {
   "cell_type": "code",
   "execution_count": null,
   "metadata": {},
   "outputs": [],
   "source": [
    "from scipy import stats\n",
    "\n",
    "def handle_outliers(df, column):\n",
    "    # Sử dụng Z-score để xác định outliers\n",
    "    z_scores = stats.zscore(df[column])\n",
    "    abs_z_scores = np.abs(z_scores)\n",
    "    threshold = 3\n",
    "    \n",
    "    # Lọc ra các mẫu không phải là outliers\n",
    "    df = df[(abs_z_scores < threshold)]\n",
    "    \n",
    "    return df\n",
    "\n",
    "# Danh sách các cột cần xử lý outliers\n",
    "columns_to_handle = [\"Năm sản xuất\", \"Số Km đã đi\", \"Giá\"]\n",
    "\n",
    "# Áp dụng hàm xử lý outliers cho từng cột trên DataFrame gốc\n",
    "for column in columns_to_handle:\n",
    "    df = handle_outliers(df, column)\n"
   ]
  },
  {
   "cell_type": "code",
   "execution_count": null,
   "metadata": {},
   "outputs": [],
   "source": [
    "# Chia DataFrame thành tập dữ liệu huấn luyện và tập dữ liệu kiểm tra\n",
    "train_df, test_df = train_test_split(df, test_size=0.2, random_state=42)\n",
    "\n",
    "# Lưu DataFrame huấn luyện vào tệp \n",
    "train_df.to_csv(\"data/train/data_train1.csv\")\n",
    "\n",
    "# Lưu DataFrame kiểm tra vào tệp \n",
    "test_df.to_csv(\"data/train/data_test1.csv\")\n"
   ]
  }
 ],
 "metadata": {
  "kernelspec": {
   "display_name": "Python 3",
   "language": "python",
   "name": "python3"
  },
  "language_info": {
   "codemirror_mode": {
    "name": "ipython",
    "version": 3
   },
   "file_extension": ".py",
   "mimetype": "text/x-python",
   "name": "python",
   "nbconvert_exporter": "python",
   "pygments_lexer": "ipython3",
   "version": "3.12.3"
  }
 },
 "nbformat": 4,
 "nbformat_minor": 2
}
