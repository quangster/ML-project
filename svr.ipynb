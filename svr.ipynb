{
 "cells": [
  {
   "cell_type": "code",
   "execution_count": 7,
   "metadata": {},
   "outputs": [],
   "source": [
    "import pandas as pd\n",
    "import numpy as np\n",
    "import matplotlib.pyplot as plt\n",
    "from sklearn.impute import SimpleImputer\n",
    "from sklearn.compose import ColumnTransformer\n",
    "from sklearn.preprocessing import OneHotEncoder"
   ]
  },
  {
   "cell_type": "code",
   "execution_count": 8,
   "metadata": {},
   "outputs": [],
   "source": [
    "train_dataset = pd.read_pickle(\"data/train/cars_train.pkl\")\n",
    "X_train = train_dataset.iloc[:, :-1].values\n",
    "y_train = train_dataset.iloc[:, -1].values"
   ]
  },
  {
   "cell_type": "code",
   "execution_count": 9,
   "metadata": {},
   "outputs": [
    {
     "data": {
      "text/plain": [
       "array([['Mercedes Benz', 2020, 'Phú Thọ', ..., 'RFD', 'Xăng', 3.0],\n",
       "       ['Ford', 2010, 'Tiền Giang', ..., 'FWD', 'Xăng', 2.3],\n",
       "       ['Mercedes Benz', 2018, 'TP HCM', ..., 'RFD', 'Xăng', 2.0],\n",
       "       ...,\n",
       "       ['BMW', 2011, 'Nam Định', ..., 'RFD', 'Xăng', 2.0],\n",
       "       ['Mercedes Benz', 2017, 'Hà Nội', ..., 'AWD', 'Xăng', 2.0],\n",
       "       ['Toyota', 2015, 'TP HCM', ..., 'FWD', 'Xăng', 2.0]], dtype=object)"
      ]
     },
     "execution_count": 9,
     "metadata": {},
     "output_type": "execute_result"
    }
   ],
   "source": [
    "X_train"
   ]
  },
  {
   "cell_type": "code",
   "execution_count": 10,
   "metadata": {},
   "outputs": [
    {
     "data": {
      "text/plain": [
       "array([[0.0, 0.0, 0.0, ..., 'RFD', 'Xăng', 3.0],\n",
       "       [0.0, 0.0, 0.0, ..., 'FWD', 'Xăng', 2.3],\n",
       "       [0.0, 0.0, 0.0, ..., 'RFD', 'Xăng', 2.0],\n",
       "       ...,\n",
       "       [0.0, 1.0, 0.0, ..., 'RFD', 'Xăng', 2.0],\n",
       "       [0.0, 0.0, 0.0, ..., 'AWD', 'Xăng', 2.0],\n",
       "       [0.0, 0.0, 0.0, ..., 'FWD', 'Xăng', 2.0]], dtype=object)"
      ]
     },
     "execution_count": 10,
     "metadata": {},
     "output_type": "execute_result"
    }
   ],
   "source": [
    "ct = ColumnTransformer(transformers=[('encoder', OneHotEncoder(), [0])], remainder='passthrough')\n",
    "X_train = np.array(ct.fit_transform(X_train))\n",
    "X_train"
   ]
  },
  {
   "cell_type": "code",
   "execution_count": null,
   "metadata": {},
   "outputs": [],
   "source": []
  }
 ],
 "metadata": {
  "kernelspec": {
   "display_name": "ml-env",
   "language": "python",
   "name": "python3"
  },
  "language_info": {
   "codemirror_mode": {
    "name": "ipython",
    "version": 3
   },
   "file_extension": ".py",
   "mimetype": "text/x-python",
   "name": "python",
   "nbconvert_exporter": "python",
   "pygments_lexer": "ipython3",
   "version": "3.12.3"
  }
 },
 "nbformat": 4,
 "nbformat_minor": 2
}
